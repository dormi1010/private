{
 "cells": [
  {
   "cell_type": "markdown",
   "metadata": {
    "toc": true
   },
   "source": [
    "<h1>Table of Contents<span class=\"tocSkip\"></span></h1>\n",
    "<div class=\"toc\" style=\"margin-top: 1em;\"><ul class=\"toc-item\"><li><span><a href=\"#問題１\" data-toc-modified-id=\"問題１-1\">問題１</a></span></li><li><span><a href=\"#問題２\" data-toc-modified-id=\"問題２-2\">問題２</a></span></li><li><span><a href=\"#問題３\" data-toc-modified-id=\"問題３-3\">問題３</a></span></li><li><span><a href=\"#問題４\" data-toc-modified-id=\"問題４-4\">問題４</a></span></li></ul></div>"
   ]
  },
  {
   "cell_type": "code",
   "execution_count": 37,
   "metadata": {
    "collapsed": true
   },
   "outputs": [],
   "source": [
    "import pandas as pd\n",
    "import numpy as np\n",
    "import scipy.stats\n",
    "import urllib.request"
   ]
  },
  {
   "cell_type": "markdown",
   "metadata": {},
   "source": [
    "# 問題１"
   ]
  },
  {
   "cell_type": "code",
   "execution_count": 20,
   "metadata": {
    "scrolled": true
   },
   "outputs": [
    {
     "name": "stdout",
     "output_type": "stream",
     "text": [
      "(1):カイ二乗検定\n"
     ]
    }
   ],
   "source": [
    "\n",
    "#(1)\n",
    "print(\"(1):カイ二乗検定\")\n",
    "\n",
    "#(2)\n",
    "\n",
    "i1 = 794\n",
    "i2 = 619\n",
    "df = pd.DataFrame({'関西人': [0.09*i1,0.24*i1,0.06*i2,0.3*i2],\n",
    "                   '関西人以外':[0.2*i1,0.47*i1,0.1*i2,0.54*i2]},\n",
    "                   index = ['好きではない','好き','嫌い','嫌いではない'])\n",
    "df =df.T\n",
    "\n",
    "#仮説1　関西人は納豆が好きではない\n",
    "#仮説2  関西人は納豆が嫌いだ\n",
    "#とする。\n",
    "\n"
   ]
  },
  {
   "cell_type": "code",
   "execution_count": 15,
   "metadata": {},
   "outputs": [
    {
     "data": {
      "text/html": [
       "<div>\n",
       "<style>\n",
       "    .dataframe thead tr:only-child th {\n",
       "        text-align: right;\n",
       "    }\n",
       "\n",
       "    .dataframe thead th {\n",
       "        text-align: left;\n",
       "    }\n",
       "\n",
       "    .dataframe tbody tr th {\n",
       "        vertical-align: top;\n",
       "    }\n",
       "</style>\n",
       "<table border=\"1\" class=\"dataframe\">\n",
       "  <thead>\n",
       "    <tr style=\"text-align: right;\">\n",
       "      <th></th>\n",
       "      <th>好きではない</th>\n",
       "      <th>好き</th>\n",
       "      <th>嫌い</th>\n",
       "      <th>嫌いではない</th>\n",
       "    </tr>\n",
       "  </thead>\n",
       "  <tbody>\n",
       "    <tr>\n",
       "      <th>関西人</th>\n",
       "      <td>71.46</td>\n",
       "      <td>190.56</td>\n",
       "      <td>37.14</td>\n",
       "      <td>185.70</td>\n",
       "    </tr>\n",
       "    <tr>\n",
       "      <th>関西人以外</th>\n",
       "      <td>158.80</td>\n",
       "      <td>373.18</td>\n",
       "      <td>61.90</td>\n",
       "      <td>334.26</td>\n",
       "    </tr>\n",
       "  </tbody>\n",
       "</table>\n",
       "</div>"
      ],
      "text/plain": [
       "       好きではない      好き     嫌い  嫌いではない\n",
       "関西人     71.46  190.56  37.14  185.70\n",
       "関西人以外  158.80  373.18  61.90  334.26"
      ]
     },
     "execution_count": 15,
     "metadata": {},
     "output_type": "execute_result"
    }
   ],
   "source": [
    "df"
   ]
  },
  {
   "cell_type": "code",
   "execution_count": 16,
   "metadata": {},
   "outputs": [
    {
     "name": "stdout",
     "output_type": "stream",
     "text": [
      "帰無仮説:　関西人とそれ以外では、納豆が好きな人の割合に差はない\n",
      "対立仮説:　関西人とそれ以外では、納豆が好きな人の割合に差がある\n",
      "\n",
      "カイ二乗値は 0.448372325774\n",
      "確率は 0.50310892605\n",
      "有意な差がありません\n",
      "よって帰無仮説が採択され、関西人とそれ以外では、納豆が好きな人の割合に差がないといえます\n",
      "\n",
      "以上から、仮説1は正しくないといえます。\n"
     ]
    }
   ],
   "source": [
    "    #仮説1について\n",
    "print(\"帰無仮説:　関西人とそれ以外では、納豆が好きな人の割合に差はない\")\n",
    "print(\"対立仮説:　関西人とそれ以外では、納豆が好きな人の割合に差がある\\n\")\n",
    "\n",
    "df1 = df.iloc[:,0:2]\n",
    "x2, p, dof, expected = scipy.stats.chi2_contingency(df1)\n",
    "print( \"カイ二乗値は %(x2)s\" %locals() )\n",
    "print( \"確率は %(p)s\" %locals() )\n",
    "\n",
    "if p < 0.05:\n",
    "        print(\"有意な差があります\")\n",
    "        print(\"よって帰無仮説が棄却され、関西人とそれ以外では、納豆が好きな人の割合に差があるといえます\")\n",
    "else:\n",
    "        print(\"有意な差がありません\")\n",
    "        print(\"よって帰無仮説が採択され、関西人とそれ以外では、納豆が好きな人の割合に差がないといえます\\n\")\n",
    "        \n",
    "print(\"以上から、仮説1は正しくないといえます。\")"
   ]
  },
  {
   "cell_type": "code",
   "execution_count": 17,
   "metadata": {},
   "outputs": [
    {
     "name": "stdout",
     "output_type": "stream",
     "text": [
      "帰無仮説:　関西人とそれ以外では、納豆が嫌いな人の割合に差はない\n",
      "対立仮説:　関西人とそれ以外では、納豆が嫌いな人の割合に差がある\n",
      "\n",
      "カイ二乗値は 0.0506791120684\n",
      "確率は 0.821885753783\n",
      "有意な差がありません\n",
      "よって帰無仮説が採択され、関西人とそれ以外では、納豆が嫌いな人の割合に差がないといえます\n",
      "\n",
      "以上から、仮説2は正しくないといえます。\n"
     ]
    }
   ],
   "source": [
    " #仮説2について\n",
    "print(\"帰無仮説:　関西人とそれ以外では、納豆が嫌いな人の割合に差はない\")\n",
    "print(\"対立仮説:　関西人とそれ以外では、納豆が嫌いな人の割合に差がある\\n\")\n",
    "\n",
    "df2 = df.iloc[:,2:4]\n",
    "x2, p, dof, expected = scipy.stats.chi2_contingency(df2)\n",
    "print( \"カイ二乗値は %(x2)s\" %locals() )\n",
    "print( \"確率は %(p)s\" %locals() )\n",
    "\n",
    "if p < 0.05:\n",
    "        print(\"有意な差があります\")\n",
    "        print(\"よって帰無仮説が棄却され、関西人とそれ以外では、納豆が嫌いな人の割合に差があるといえます\")\n",
    "else:\n",
    "        print(\"有意な差がありません\")\n",
    "        print(\"よって帰無仮説が採択され、関西人とそれ以外では、納豆が嫌いな人の割合に差がないといえます\\n\")\n",
    "        \n",
    "print(\"以上から、仮説2は正しくないといえます。\")"
   ]
  },
  {
   "cell_type": "code",
   "execution_count": 18,
   "metadata": {},
   "outputs": [
    {
     "data": {
      "text/plain": [
       "'「好き」と「嫌い」の間には「どちらともいえない」という層があり、単純に「好き」「嫌い」で比較することは難しい。\\nまた、「好きではない」＝「嫌い」とは言えないため、今回のように「好き」か「好きではない」か、また「嫌い」か「嫌いでないか」\\nという2側面から検証することで、「好き」「嫌い」の傾向の検証の精度を高めている。\\n今回の検証結果から、関西人とそれ以外の人とでは、納豆が好きな人の割合も嫌いな人の割合も、有意な差は見られなかった。\\nこのことから、関西人であるか否かは納豆の好き嫌いには影響を与えないことが強く示唆された。'"
      ]
     },
     "execution_count": 18,
     "metadata": {},
     "output_type": "execute_result"
    }
   ],
   "source": [
    "#(3)\n",
    "'''「好き」と「嫌い」の間には「どちらともいえない」という層があり、単純に「好き」「嫌い」で比較することは難しい。\n",
    "また、「好きではない」＝「嫌い」とは言えないため、今回のように「好き」か「好きではない」か、また「嫌い」か「嫌いでないか」\n",
    "という2側面から検証することで、「好き」「嫌い」の傾向の検証の精度を高めている。\n",
    "今回の検証結果から、関西人とそれ以外の人とでは、納豆が好きな人の割合も嫌いな人の割合も、有意な差は見られなかった。\n",
    "このことから、関西人であるか否かは納豆の好き嫌いには影響を与えないことが強く示唆された。'''"
   ]
  },
  {
   "cell_type": "markdown",
   "metadata": {},
   "source": [
    "# 問題２"
   ]
  },
  {
   "cell_type": "code",
   "execution_count": 19,
   "metadata": {},
   "outputs": [
    {
     "name": "stdout",
     "output_type": "stream",
     "text": [
      "(1):t検定（対応なし）\n"
     ]
    }
   ],
   "source": [
    "#(1)\n",
    "print(\"(1):t検定（対応なし）\")"
   ]
  },
  {
   "cell_type": "code",
   "execution_count": 35,
   "metadata": {},
   "outputs": [
    {
     "name": "stdout",
     "output_type": "stream",
     "text": [
      "帰無仮説：２０世紀のマンガの登場人物と、２１世紀のマンガの登場人物では体格に差はない\n",
      "対立仮説：２０世紀のマンガの登場人物と、２１世紀のマンガの登場人物では体格が異なる\n"
     ]
    }
   ],
   "source": [
    "#(2)\n",
    "print(\"帰無仮説：２０世紀のマンガの登場人物と、２１世紀のマンガの登場人物では体格に差はない\")\n",
    "print(\"対立仮説：２０世紀のマンガの登場人物と、２１世紀のマンガの登場人物では体格が異なる\")\n",
    "\n",
    "X = []\n",
    "Y = []\n",
    "x1 = (189.2,187,190,168,202,197,184,184,168,173,189,192,195,208,190)\n",
    "x2 = (88,75,79,59,90,93,70,79,57,64,77,85,79,99,82)\n",
    "y1 = (162.8,180.6,188.3,179.5,177.2,159.3,176.8,174.3,184.7)\n",
    "y2 = (51.9,66.3,68.4,63.0,68.8,51.1,70.1,63.5,75.2)\n",
    "\n",
    "#体格の指標にはBMIを用いることとする。\n",
    "for x,y in zip(x1,x2):\n",
    "    z = y / ((x/100)**2)\n",
    "    X.append(z)\n",
    "    \n",
    "for x,y in zip(y1,y2):\n",
    "    z = y / ((x/100)**2)\n",
    "    Y.append(z)"
   ]
  },
  {
   "cell_type": "code",
   "execution_count": 33,
   "metadata": {},
   "outputs": [
    {
     "name": "stdout",
     "output_type": "stream",
     "text": [
      "f値は　1.231737572760023\n",
      "p値は　0.6040579566408248\n",
      "非等分散です\n"
     ]
    }
   ],
   "source": [
    "#まずF検定で等分散か非等分散かを調べる\n",
    "\n",
    "\n",
    "f = np.var(X) / np.var(Y)\n",
    "\n",
    "dfx = len(X) - 1\n",
    "dfy = len(Y) - 1\n",
    "\n",
    "p_value = scipy.stats.f.cdf(f, dfx, dfy)\n",
    "\n",
    "\n",
    "print('f値は　{0}\\np値は　{1}' .format(f,p_value))\n",
    "if p < 0.05:\n",
    "    print(\"非等分散です\")\n",
    "else:\n",
    "    print(\"非等分散ではありません\")"
   ]
  },
  {
   "cell_type": "code",
   "execution_count": 36,
   "metadata": {},
   "outputs": [
    {
     "name": "stdout",
     "output_type": "stream",
     "text": [
      "t 値は 2.72420253986\n",
      "確率は 0.0138689119029\n",
      "有意な差があります\n",
      "よって帰無仮説は棄却され、２０世紀のマンガの登場人物と、２１世紀のマンガの登場人物では体格が異なるといえます。\n"
     ]
    }
   ],
   "source": [
    "#t検定\n",
    "t, p = scipy.stats.ttest_ind(X, Y,equal_var = False)\n",
    "\n",
    "print( \"t 値は %(t)s\" %locals() )\n",
    "print( \"確率は %(p)s\" %locals() )\n",
    "\n",
    "if p < 0.05:\n",
    "    print(\"有意な差があります\")\n",
    "    print(\"よって帰無仮説は棄却され、２０世紀のマンガの登場人物と、２１世紀のマンガの登場人物では体格が異なるといえます。\")\n",
    "else:\n",
    "    print(\"有意な差がありません\")\n",
    "    print(\"よって帰無仮説が採択され、２０世紀のマンガの登場人物と、２１世紀のマンガの登場人物では体格が異なるとは言えません。\")"
   ]
  },
  {
   "cell_type": "markdown",
   "metadata": {},
   "source": [
    "# 問題３"
   ]
  },
  {
   "cell_type": "code",
   "execution_count": 42,
   "metadata": {},
   "outputs": [
    {
     "data": {
      "text/html": [
       "<div>\n",
       "<style>\n",
       "    .dataframe thead tr:only-child th {\n",
       "        text-align: right;\n",
       "    }\n",
       "\n",
       "    .dataframe thead th {\n",
       "        text-align: left;\n",
       "    }\n",
       "\n",
       "    .dataframe tbody tr th {\n",
       "        vertical-align: top;\n",
       "    }\n",
       "</style>\n",
       "<table border=\"1\" class=\"dataframe\">\n",
       "  <thead>\n",
       "    <tr style=\"text-align: right;\">\n",
       "      <th></th>\n",
       "      <th>家賃（円）</th>\n",
       "      <th>徒歩（分）</th>\n",
       "      <th>専有面積（㎡）</th>\n",
       "      <th>築年数（年）</th>\n",
       "      <th>階数（階）</th>\n",
       "      <th>新築</th>\n",
       "      <th>2階以上</th>\n",
       "      <th>南向き</th>\n",
       "      <th>駐車場</th>\n",
       "      <th>オートロック</th>\n",
       "      <th>エアコン</th>\n",
       "      <th>バストイレ別</th>\n",
       "      <th>追い焚き</th>\n",
       "      <th>フローリング</th>\n",
       "      <th>ペット相談可</th>\n",
       "    </tr>\n",
       "  </thead>\n",
       "  <tbody>\n",
       "    <tr>\n",
       "      <th>0</th>\n",
       "      <td>88500</td>\n",
       "      <td>10</td>\n",
       "      <td>20.7</td>\n",
       "      <td>3</td>\n",
       "      <td>8</td>\n",
       "      <td>0</td>\n",
       "      <td>1</td>\n",
       "      <td>0</td>\n",
       "      <td>1</td>\n",
       "      <td>1</td>\n",
       "      <td>1</td>\n",
       "      <td>1</td>\n",
       "      <td>0</td>\n",
       "      <td>1</td>\n",
       "      <td>1</td>\n",
       "    </tr>\n",
       "    <tr>\n",
       "      <th>1</th>\n",
       "      <td>86700</td>\n",
       "      <td>10</td>\n",
       "      <td>20.7</td>\n",
       "      <td>3</td>\n",
       "      <td>7</td>\n",
       "      <td>0</td>\n",
       "      <td>1</td>\n",
       "      <td>1</td>\n",
       "      <td>1</td>\n",
       "      <td>1</td>\n",
       "      <td>1</td>\n",
       "      <td>1</td>\n",
       "      <td>0</td>\n",
       "      <td>1</td>\n",
       "      <td>1</td>\n",
       "    </tr>\n",
       "    <tr>\n",
       "      <th>2</th>\n",
       "      <td>87300</td>\n",
       "      <td>10</td>\n",
       "      <td>20.7</td>\n",
       "      <td>3</td>\n",
       "      <td>2</td>\n",
       "      <td>0</td>\n",
       "      <td>1</td>\n",
       "      <td>1</td>\n",
       "      <td>1</td>\n",
       "      <td>1</td>\n",
       "      <td>1</td>\n",
       "      <td>1</td>\n",
       "      <td>0</td>\n",
       "      <td>1</td>\n",
       "      <td>1</td>\n",
       "    </tr>\n",
       "    <tr>\n",
       "      <th>3</th>\n",
       "      <td>88200</td>\n",
       "      <td>10</td>\n",
       "      <td>20.7</td>\n",
       "      <td>3</td>\n",
       "      <td>9</td>\n",
       "      <td>0</td>\n",
       "      <td>1</td>\n",
       "      <td>1</td>\n",
       "      <td>1</td>\n",
       "      <td>1</td>\n",
       "      <td>1</td>\n",
       "      <td>1</td>\n",
       "      <td>0</td>\n",
       "      <td>1</td>\n",
       "      <td>1</td>\n",
       "    </tr>\n",
       "    <tr>\n",
       "      <th>4</th>\n",
       "      <td>170000</td>\n",
       "      <td>10</td>\n",
       "      <td>41.4</td>\n",
       "      <td>3</td>\n",
       "      <td>11</td>\n",
       "      <td>0</td>\n",
       "      <td>1</td>\n",
       "      <td>1</td>\n",
       "      <td>1</td>\n",
       "      <td>1</td>\n",
       "      <td>1</td>\n",
       "      <td>1</td>\n",
       "      <td>1</td>\n",
       "      <td>1</td>\n",
       "      <td>1</td>\n",
       "    </tr>\n",
       "  </tbody>\n",
       "</table>\n",
       "</div>"
      ],
      "text/plain": [
       "    家賃（円）  徒歩（分）  専有面積（㎡）  築年数（年）  階数（階）  新築  2階以上  南向き  駐車場  オートロック  エアコン  \\\n",
       "0   88500     10     20.7       3      8   0     1    0    1       1     1   \n",
       "1   86700     10     20.7       3      7   0     1    1    1       1     1   \n",
       "2   87300     10     20.7       3      2   0     1    1    1       1     1   \n",
       "3   88200     10     20.7       3      9   0     1    1    1       1     1   \n",
       "4  170000     10     41.4       3     11   0     1    1    1       1     1   \n",
       "\n",
       "   バストイレ別  追い焚き  フローリング  ペット相談可  \n",
       "0       1     0       1       1  \n",
       "1       1     0       1       1  \n",
       "2       1     0       1       1  \n",
       "3       1     0       1       1  \n",
       "4       1     1       1       1  "
      ]
     },
     "execution_count": 42,
     "metadata": {},
     "output_type": "execute_result"
    }
   ],
   "source": [
    "url = 'https://raw.githubusercontent.com/maskot1977/Statistics2017/master/home.txt'\n",
    "urllib.request.urlretrieve(url, 'exam.txt')\n",
    "df = pd.read_csv('exam.txt',sep =\"\\t\" )\n",
    "df.head()"
   ]
  },
  {
   "cell_type": "code",
   "execution_count": 61,
   "metadata": {},
   "outputs": [
    {
     "name": "stdout",
     "output_type": "stream",
     "text": [
      "(1) 相関係数は　0.940117414353\n"
     ]
    }
   ],
   "source": [
    "#(1)\n",
    "x = df.iloc[:,0]\n",
    "y = df.iloc[:,2]\n",
    "slope, intercept, r_value, p_value, std_err = scipy.stats.linregress(y, x)\n",
    "print(\"(1) 相関係数は　%(r_value)s\" %locals())"
   ]
  },
  {
   "cell_type": "code",
   "execution_count": 71,
   "metadata": {},
   "outputs": [
    {
     "name": "stdout",
     "output_type": "stream",
     "text": [
      "(2) 家賃(円)　=　2888.79802646 × 面積(m^2) + 28680.9745133 \n"
     ]
    }
   ],
   "source": [
    "#(2)\n",
    "print(\"(2) 家賃(円)　=　%(slope)s × 面積(m^2) + %(intercept)s \" %locals())"
   ]
  },
  {
   "cell_type": "code",
   "execution_count": 78,
   "metadata": {},
   "outputs": [],
   "source": [
    "import math\n",
    "def partial_correlation(a, b, y):　# 偏相関係数を算出できるライブラリが見つからなかった...\n",
    "    ay,p = scipy.stats.pearsonr(a, y)\n",
    "    by,p = scipy.stats.pearsonr(b, y)\n",
    "    ab,p = scipy.stats.pearsonr(a, b)\n",
    "    c = by - (ay * ab)\n",
    "    d = math.sqrt(1 - ay ** 2) * math.sqrt(1 - ab ** 2)\n",
    "    return(round(c/d,3))"
   ]
  },
  {
   "cell_type": "code",
   "execution_count": 80,
   "metadata": {},
   "outputs": [
    {
     "name": "stdout",
     "output_type": "stream",
     "text": [
      "(3) 偏相関係数は　0.419\n"
     ]
    }
   ],
   "source": [
    "#(3)\n",
    "a = df.iloc[:,0]\n",
    "b = df.iloc[:,2]\n",
    "y = df.iloc[:,1]\n",
    "p = partial_correlation(a, b, y)\n",
    "print(\"(3) 偏相関係数は　%(p)s\" %locals())"
   ]
  },
  {
   "cell_type": "code",
   "execution_count": 95,
   "metadata": {},
   "outputs": [
    {
     "name": "stdout",
     "output_type": "stream",
     "text": [
      "(4) 家賃(円) = -1083.1621750931267×[徒歩(分)] + 2995.9374375601087×[面積(m^2)] + 35676.70379040221\n"
     ]
    }
   ],
   "source": [
    "#(4)\n",
    "from sklearn import linear_model\n",
    "lr = linear_model.LinearRegression()\n",
    "\n",
    "X = df.iloc[:,1:3].as_matrix()\n",
    "Y = df['家賃(円) '].as_matrix()\n",
    "lr.fit(X,Y)\n",
    "print(\"(4) 家賃(円) = {0}×[徒歩(分)] + {1}×[面積(m^2)] + {2}\".format(lr.coef_[0],lr.coef_[1],lr.intercept_))"
   ]
  },
  {
   "cell_type": "code",
   "execution_count": 97,
   "metadata": {},
   "outputs": [
    {
     "data": {
      "text/plain": [
       "'重回帰モデルによる予測値と実際の値（家賃）との相関係数を求めるとよい。'"
      ]
     },
     "execution_count": 97,
     "metadata": {},
     "output_type": "execute_result"
    }
   ],
   "source": [
    "#(5)\n",
    "'''重回帰モデルによる予測値と実際の値（家賃）との相関係数を求めるとよい。'''"
   ]
  },
  {
   "cell_type": "code",
   "execution_count": 101,
   "metadata": {},
   "outputs": [
    {
     "name": "stdout",
     "output_type": "stream",
     "text": [
      "(5) 相関係数は　0.947871422356\n"
     ]
    }
   ],
   "source": [
    "fitted_y = []\n",
    "A = df['徒歩（分）'].as_matrix()\n",
    "B = df['専有面積（㎡）'].as_matrix()\n",
    "for a,b in zip (A,B):\n",
    "    y = (lr.coef_[0]*a)+(lr.coef_[1]*b)+lr.intercept_\n",
    "    fitted_y.append(y)\n",
    "c,p = scipy.stats.pearsonr(Y, fitted_y)\n",
    "print(\"(5) 相関係数は　%(c)s\" %locals())"
   ]
  },
  {
   "cell_type": "markdown",
   "metadata": {},
   "source": [
    "# 問題４"
   ]
  },
  {
   "cell_type": "code",
   "execution_count": null,
   "metadata": {
    "collapsed": true
   },
   "outputs": [],
   "source": []
  }
 ],
 "metadata": {
  "kernelspec": {
   "display_name": "Python 3",
   "language": "python",
   "name": "python3"
  },
  "language_info": {
   "codemirror_mode": {
    "name": "ipython",
    "version": 3
   },
   "file_extension": ".py",
   "mimetype": "text/x-python",
   "name": "python",
   "nbconvert_exporter": "python",
   "pygments_lexer": "ipython3",
   "version": "3.6.2"
  },
  "toc": {
   "nav_menu": {},
   "number_sections": false,
   "sideBar": true,
   "skip_h1_title": false,
   "toc_cell": true,
   "toc_position": {},
   "toc_section_display": "block",
   "toc_window_display": false
  }
 },
 "nbformat": 4,
 "nbformat_minor": 2
}
