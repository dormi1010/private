{
 "cells": [
  {
   "cell_type": "markdown",
   "metadata": {},
   "source": [
    "# 1- Chi-squared Test\n",
    "\n",
    "## 1 >>scipy.stats.chisquare"
   ]
  },
  {
   "cell_type": "code",
   "execution_count": 5,
   "metadata": {},
   "outputs": [
    {
     "data": {
      "text/plain": [
       "Power_divergenceResult(statistic=0.47002398081534769, pvalue=0.92542589510361595)"
      ]
     },
     "execution_count": 5,
     "metadata": {},
     "output_type": "execute_result"
    }
   ],
   "source": [
    "import pandas as pd\n",
    "import numpy as np\n",
    "from scipy import stats\n",
    "\n",
    "prob = pd.Series([9./16.,3./16.,3./16.,1./16.],name = \"理論確率\")\n",
    "numb  = pd.Series([315,101,108,32],name =\"観測度数\")\n",
    "sum1 = np.cumsum(numb)[3] #sum1 = 556\n",
    "theo = pd.Series(prob*sum1,name = \"理論度数\")\n",
    "scipy.stats.chisquare(numb,theo)\n",
    "#scipy.stats.chisquare(観測度数(array like),理論度数(array like),ddof=デフォルトの自由度からいくらひくか(int))\n",
    "#出力(カイ二乗値, p値)"
   ]
  },
  {
   "cell_type": "markdown",
   "metadata": {},
   "source": [
    "## 2 >>scipy.stats.chi2_contingency"
   ]
  },
  {
   "cell_type": "code",
   "execution_count": 7,
   "metadata": {},
   "outputs": [
    {
     "name": "stdout",
     "output_type": "stream",
     "text": [
      "テキストデータを取り込む場合\n"
     ]
    }
   ],
   "source": [
    "import pandas as pd\n",
    "from scipy import stats\n",
    "'''\n",
    "# タブ区切りのテキストデータを読み込む\n",
    "data = pd.read_csv(\"xxx.txt\", sep=\"\\t\")\n",
    "\n",
    "# クロス集計をする\n",
    "crossed = pd.crosstab(xxx.A, xxx.B)\n",
    "#=>\n",
    "#           A    B\n",
    "#label_1  435  165\n",
    "#label_2  265  135\n",
    "\n",
    "\n",
    "x2, p, dof, expected = scipy.stats.chi2_contingency(crossed)\n",
    "'''\n",
    "#出力(カイ二乗値(flort),p値(flort),自由度(int),期待度数(Dataframe))\n",
    "print(\"テキストデータを取り込む場合\")"
   ]
  },
  {
   "cell_type": "markdown",
   "metadata": {},
   "source": [
    "# 2- T-test\n",
    "\n",
    "## 1 >>scipy.stats.ttest_rel"
   ]
  },
  {
   "cell_type": "code",
   "execution_count": 9,
   "metadata": {},
   "outputs": [
    {
     "name": "stdout",
     "output_type": "stream",
     "text": [
      "[68, 75, 80, 71, 73, 79, 69, 65]\n",
      "[86, 83, 76, 81, 75, 82, 87, 75]\n",
      "t 値は -2.99232037543\n",
      "確率は 0.0201600161737\n",
      "有意な差があります\n"
     ]
    }
   ],
   "source": [
    "import numpy as np\n",
    "import scipy as sp\n",
    "from scipy import stats\n",
    "\n",
    "X = [68, 75, 80, 71, 73, 79, 69, 65]\n",
    "Y = [86, 83, 76, 81, 75, 82, 87, 75]\n",
    "\n",
    "print(X)\n",
    "print(Y)\n",
    "\n",
    "t, p = sp.stats.ttest_rel(X, Y)\n",
    "\n",
    "print( \"t 値は %(t)s\" %locals() )\n",
    "print( \"確率は %(p)s\" %locals() )\n",
    "\n",
    "if p < 0.05:\n",
    "    print(\"有意な差があります\")\n",
    "else:\n",
    "    print(\"有意な差がありません\")\n"
   ]
  },
  {
   "cell_type": "code",
   "execution_count": null,
   "metadata": {
    "collapsed": true
   },
   "outputs": [],
   "source": []
  }
 ],
 "metadata": {
  "kernelspec": {
   "display_name": "Python 3",
   "language": "python",
   "name": "python3"
  },
  "language_info": {
   "codemirror_mode": {
    "name": "ipython",
    "version": 3
   },
   "file_extension": ".py",
   "mimetype": "text/x-python",
   "name": "python",
   "nbconvert_exporter": "python",
   "pygments_lexer": "ipython3",
   "version": "3.6.2"
  }
 },
 "nbformat": 4,
 "nbformat_minor": 2
}
