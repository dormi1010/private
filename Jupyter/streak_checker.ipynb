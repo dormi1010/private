{
 "cells": [
  {
   "cell_type": "code",
   "execution_count": 95,
   "metadata": {},
   "outputs": [],
   "source": [
    "import time\n",
    "import json\n",
    "import requests\n",
    "import datetime"
   ]
  },
  {
   "cell_type": "code",
   "execution_count": 96,
   "metadata": {},
   "outputs": [],
   "source": [
    "def lastAC(js):\n",
    "    for index in range(100):\n",
    "        if(js[index]['result']=='AC'):\n",
    "            #print(js[index]['epoch_second'])\n",
    "            return  datetime.datetime.fromtimestamp(js[index]['epoch_second'])"
   ]
  },
  {
   "cell_type": "code",
   "execution_count": 97,
   "metadata": {},
   "outputs": [],
   "source": [
    "def GetData() :\n",
    "    # エンドポイント\n",
    "    url = 'https://kenkoooo.com/atcoder/atcoder-api/results?user=dormi1010'\n",
    "    \n",
    "    # リクエスト\n",
    "    res = requests.get(url)\n",
    "    \n",
    "    #jsonに加工、提出idでソート\n",
    "    values = json.loads(res.text)\n",
    "    values.sort(key=lambda x: x['id'],reverse=True)\n",
    "    \n",
    "    return values"
   ]
  },
  {
   "cell_type": "code",
   "execution_count": 98,
   "metadata": {},
   "outputs": [],
   "source": [
    "data = GetData()"
   ]
  },
  {
   "cell_type": "code",
   "execution_count": 100,
   "metadata": {},
   "outputs": [
    {
     "name": "stdout",
     "output_type": "stream",
     "text": [
      "2020-05-30 21:56:43\n"
     ]
    }
   ],
   "source": [
    "print(lastAC(GetData()))"
   ]
  },
  {
   "cell_type": "code",
   "execution_count": null,
   "metadata": {},
   "outputs": [],
   "source": []
  }
 ],
 "metadata": {
  "kernelspec": {
   "display_name": "Python 3",
   "language": "python",
   "name": "python3"
  },
  "language_info": {
   "codemirror_mode": {
    "name": "ipython",
    "version": 3
   },
   "file_extension": ".py",
   "mimetype": "text/x-python",
   "name": "python",
   "nbconvert_exporter": "python",
   "pygments_lexer": "ipython3",
   "version": "3.7.7"
  }
 },
 "nbformat": 4,
 "nbformat_minor": 2
}
