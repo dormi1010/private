{
 "cells": [
  {
   "cell_type": "code",
   "execution_count": 1,
   "metadata": {
    "collapsed": true
   },
   "outputs": [],
   "source": [
    "# 課題6.2\n",
    "# 対立仮説\n",
    "# 3つのお店のポテトの評価（母集団）の平均のいずれかの組み合わせにおいて差がある"
   ]
  },
  {
   "cell_type": "code",
   "execution_count": 40,
   "metadata": {
    "collapsed": true
   },
   "outputs": [],
   "source": [
    "import keiichi as k1\n",
    "wakuwaku = [80, 75, 80, 90, 95, 80, 80, 85, 85, 80, 90, 80, 75, 90, 85, 85, 90, 90, 85, 80]\n",
    "mogumogu = [75, 70, 80, 85, 90, 75, 85, 80, 80, 75, 80, 75, 70, 85, 80, 75, 80, 80, 90, 80]\n",
    "pakupaku = [80, 80, 80, 90, 95, 85, 95, 90, 85, 90, 95, 85, 98, 95, 85, 85, 90, 90, 85, 85]\n",
    "wa = wakuwaku\n",
    "mo = mogumogu\n",
    "pa = pakupaku"
   ]
  },
  {
   "cell_type": "code",
   "execution_count": 41,
   "metadata": {},
   "outputs": [
    {
     "name": "stdout",
     "output_type": "stream",
     "text": [
      "ワクワク： 84.0\n",
      "モグモグ： 79.5\n",
      "パクパク： 88.15\n"
     ]
    }
   ],
   "source": [
    "# それぞれの店のポテトの点数の平均（表 a, b, c ）\n",
    "a = k1.average(wa)\n",
    "b = k1.average(mo)\n",
    "c = k1.average(pa)\n",
    "print('ワクワク： {0}\\nモグモグ： {1}\\nパクパク： {2}' .format(a, b, c))"
   ]
  },
  {
   "cell_type": "code",
   "execution_count": 42,
   "metadata": {},
   "outputs": [
    {
     "name": "stdout",
     "output_type": "stream",
     "text": [
      "83.88\n"
     ]
    }
   ],
   "source": [
    "# 全体の平均（表 d ）\n",
    "all = wa + mo + pa\n",
    "d =k1.average(all)\n",
    "print(round(d,2))"
   ]
  },
  {
   "cell_type": "code",
   "execution_count": 43,
   "metadata": {},
   "outputs": [
    {
     "name": "stdout",
     "output_type": "stream",
     "text": [
      "ワクワク： 580.0\n",
      "モグモグ： 595.0\n",
      "パクパク： 570.5499999999998\n"
     ]
    }
   ],
   "source": [
    "# それぞれの店のポテトの点数の偏差平方和（表 e, f, g ）\n",
    "e = k1.varsum(wa)\n",
    "f = k1.varsum(mo)\n",
    "g = k1.varsum(pa)\n",
    "print('ワクワク： {0}\\nモグモグ： {1}\\nパクパク： {2}' .format(e, f, g))"
   ]
  },
  {
   "cell_type": "code",
   "execution_count": 44,
   "metadata": {},
   "outputs": [
    {
     "name": "stdout",
     "output_type": "stream",
     "text": [
      "2494.18\n"
     ]
    }
   ],
   "source": [
    "# 全体の偏差平方和（表 h ）\n",
    "h =k1.varsum(all)\n",
    "print(round(h,2))"
   ]
  },
  {
   "cell_type": "code",
   "execution_count": 45,
   "metadata": {},
   "outputs": [
    {
     "name": "stdout",
     "output_type": "stream",
     "text": [
      "1745.55\n"
     ]
    }
   ],
   "source": [
    "# 群内の偏差平方和（表 i ）\n",
    "i = e + f + g\n",
    "print(round(i,2))"
   ]
  },
  {
   "cell_type": "code",
   "execution_count": 46,
   "metadata": {},
   "outputs": [
    {
     "name": "stdout",
     "output_type": "stream",
     "text": [
      "748.63\n"
     ]
    }
   ],
   "source": [
    "# 群間の偏差平方和（表 j ) \n",
    "j1 = (a - d) ** 2 * len(wa)\n",
    "j2 = (b - d) ** 2 * len(mo)\n",
    "j3 = (c - d) ** 2 * len(pa)\n",
    "j = j1 + j2 + j3\n",
    "print(round(j,2))"
   ]
  },
  {
   "cell_type": "code",
   "execution_count": 47,
   "metadata": {},
   "outputs": [
    {
     "name": "stdout",
     "output_type": "stream",
     "text": [
      "k： 2\n",
      "l： 57\n",
      "m： 59\n"
     ]
    }
   ],
   "source": [
    "# 自由度(表 k, l, m)\n",
    "k = 3 - 1\n",
    "l = (len(wa) - 1) + (len(mo) - 1) + (len(pa) - 1)\n",
    "m = len(all) - 1\n",
    "print('k： {0}\\nl： {1}\\nm： {2}' .format(k, l, m))"
   ]
  },
  {
   "cell_type": "code",
   "execution_count": 48,
   "metadata": {},
   "outputs": [
    {
     "name": "stdout",
     "output_type": "stream",
     "text": [
      "n： 374.32\n",
      "o： 30.62\n"
     ]
    }
   ],
   "source": [
    "# 平均平方\n",
    "n = j / k\n",
    "o = i / l\n",
    "print('n： {0}\\no： {1}' .format(round(n,2), round(o,2)))"
   ]
  },
  {
   "cell_type": "code",
   "execution_count": 49,
   "metadata": {},
   "outputs": [
    {
     "name": "stdout",
     "output_type": "stream",
     "text": [
      "12.22\n"
     ]
    }
   ],
   "source": [
    "# F値(表 p)\n",
    "p = n / o\n",
    "print(round(p,2))"
   ]
  },
  {
   "cell_type": "code",
   "execution_count": 50,
   "metadata": {
    "collapsed": true
   },
   "outputs": [],
   "source": [
    "# 計算したF値と、F分布表を比較\n",
    "# 群内の自由度60、群間の自由度2におけるF値は4.98\n",
    "# 今回得られたF値は12.22より、帰無仮説は棄却できる。"
   ]
  },
  {
   "cell_type": "code",
   "execution_count": 51,
   "metadata": {
    "collapsed": true
   },
   "outputs": [],
   "source": [
    "# 課題6.4"
   ]
  },
  {
   "cell_type": "code",
   "execution_count": 52,
   "metadata": {
    "collapsed": true
   },
   "outputs": [],
   "source": [
    "wakuwaku = [90, 70, 75, 90, 65, 70, 80, 85, 75, 75, 85, 75, 80, 90, 80]\n",
    "mogumogu = [75, 95, 75, 80, 75, 85, 75, 85, 80, 65, 90, 75, 90, 75, 85]\n",
    "pakupaku = [65, 60, 75, 80, 65, 60, 70, 85, 70, 75, 75, 70, 80, 75, 80]\n",
    "wa = wakuwaku\n",
    "mo = mogumogu\n",
    "pa = pakupaku\n",
    "all = wa + mo + pa"
   ]
  },
  {
   "cell_type": "code",
   "execution_count": 53,
   "metadata": {},
   "outputs": [],
   "source": [
    "# 帰無仮説 : 3つのお店のハンバーガーの評価（母集団）の平均のいずれの組み合わせにおいても差はない\n",
    "# 対立仮説 : 3つのお店のハンバーガーの評価（母集団）の平均のいずれかの組み合わせにおいて差がある"
   ]
  },
  {
   "cell_type": "code",
   "execution_count": 54,
   "metadata": {},
   "outputs": [
    {
     "name": "stdout",
     "output_type": "stream",
     "text": [
      "ワクワク： 79.0\n",
      "モグモグ： 80.33333333333333\n",
      "パクパク： 72.33333333333333\n",
      "全体： 77.22222222222223\n"
     ]
    }
   ],
   "source": [
    "# データ数、平均、分散、平方和\n",
    "a = k1.average(wa)\n",
    "b = k1.average(mo)\n",
    "c = k1.average(pa)\n",
    "d =k1.average(all)\n",
    "print('ワクワク： {0}\\nモグモグ： {1}\\nパクパク： {2}\\n全体： {3}' .format(a, b, c, d))"
   ]
  },
  {
   "cell_type": "code",
   "execution_count": 55,
   "metadata": {},
   "outputs": [
    {
     "name": "stdout",
     "output_type": "stream",
     "text": [
      "ワクワク： 860.0\n",
      "モグモグ： 873.3333333333333\n",
      "パクパク： 793.3333333333333\n",
      "全体： 3077.7777777777774\n"
     ]
    }
   ],
   "source": [
    "e = k1.varsum(wa)\n",
    "f = k1.varsum(mo)\n",
    "g = k1.varsum(pa)\n",
    "h = k1.varsum(all)\n",
    "print('ワクワク： {0}\\nモグモグ： {1}\\nパクパク： {2}\\n全体： {3}' .format(e, f, g, h))"
   ]
  },
  {
   "cell_type": "code",
   "execution_count": 56,
   "metadata": {},
   "outputs": [
    {
     "name": "stdout",
     "output_type": "stream",
     "text": [
      "群内の偏差平方和： 2526.67\n",
      "群間の偏差平方和： 551.11\n"
     ]
    }
   ],
   "source": [
    "i = e + f + g\n",
    "j1 = (a - d) ** 2 * len(wa)\n",
    "j2 = (b - d) ** 2 * len(mo)\n",
    "j3 = (c - d) ** 2 * len(pa)\n",
    "j = j1 + j2 + j3\n",
    "print('群内の偏差平方和： {0}\\n群間の偏差平方和： {1}'.format(round(i,2), round(j,2)))"
   ]
  },
  {
   "cell_type": "code",
   "execution_count": 57,
   "metadata": {},
   "outputs": [
    {
     "name": "stdout",
     "output_type": "stream",
     "text": [
      "k： 2\n",
      "l： 42\n",
      "m： 44\n"
     ]
    }
   ],
   "source": [
    "# 分散分析表\n",
    "# 自由度\n",
    "k = 3 - 1\n",
    "l = (len(wa) - 1) + (len(mo) - 1) + (len(pa) - 1)\n",
    "m = len(all) - 1\n",
    "print('k： {0}\\nl： {1}\\nm： {2}' .format(k, l, m))"
   ]
  },
  {
   "cell_type": "code",
   "execution_count": 58,
   "metadata": {},
   "outputs": [
    {
     "name": "stdout",
     "output_type": "stream",
     "text": [
      "n： 275.56\n",
      "o： 60.16\n"
     ]
    }
   ],
   "source": [
    "# 平均平方\n",
    "n = j / k\n",
    "o = i / l\n",
    "print('n： {0}\\no： {1}' .format(round(n,2), round(o,2)))"
   ]
  },
  {
   "cell_type": "code",
   "execution_count": 59,
   "metadata": {},
   "outputs": [
    {
     "name": "stdout",
     "output_type": "stream",
     "text": [
      "4.58\n"
     ]
    }
   ],
   "source": [
    "# F値(表 p)\n",
    "p = n / o\n",
    "print(round(p,2))"
   ]
  },
  {
   "cell_type": "code",
   "execution_count": 60,
   "metadata": {
    "collapsed": true
   },
   "outputs": [],
   "source": [
    "# 計算したF値と、F分布表を比較\n",
    "# 有意水準5%のとき、群内の自由度40、群間の自由度2におけるF値は3.23\n",
    "# 今回得られたF値は4.58より、帰無仮説は棄却できる。\n",
    "# 有意水準1%のとき、群内の自由度40、群間の自由度2におけるF値は5.18\n",
    "# 今回得られたF値は4.58より、帰無仮説が採用される。"
   ]
  },
  {
   "cell_type": "code",
   "execution_count": null,
   "metadata": {
    "collapsed": true
   },
   "outputs": [],
   "source": []
  }
 ],
 "metadata": {
  "kernelspec": {
   "display_name": "Python 3",
   "language": "python",
   "name": "python3"
  },
  "language_info": {
   "codemirror_mode": {
    "name": "ipython",
    "version": 3
   },
   "file_extension": ".py",
   "mimetype": "text/x-python",
   "name": "python",
   "nbconvert_exporter": "python",
   "pygments_lexer": "ipython3",
   "version": "3.6.2"
  }
 },
 "nbformat": 4,
 "nbformat_minor": 2
}
