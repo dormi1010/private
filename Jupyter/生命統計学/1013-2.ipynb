{
 "cells": [
  {
   "cell_type": "code",
   "execution_count": null,
   "metadata": {
    "collapsed": true
   },
   "outputs": [],
   "source": [
    "# 課題7.4"
   ]
  },
  {
   "cell_type": "code",
   "execution_count": 64,
   "metadata": {},
   "outputs": [
    {
     "data": {
      "text/html": [
       "<div>\n",
       "<style>\n",
       "    .dataframe thead tr:only-child th {\n",
       "        text-align: right;\n",
       "    }\n",
       "\n",
       "    .dataframe thead th {\n",
       "        text-align: left;\n",
       "    }\n",
       "\n",
       "    .dataframe tbody tr th {\n",
       "        vertical-align: top;\n",
       "    }\n",
       "</style>\n",
       "<table border=\"1\" class=\"dataframe\">\n",
       "  <thead>\n",
       "    <tr style=\"text-align: right;\">\n",
       "      <th></th>\n",
       "      <th>ピリ辛バーガー + ピリ辛ポテト</th>\n",
       "      <th>ピリ辛バーガー + 普通のポテト</th>\n",
       "      <th>普通のバーガー + ピリ辛ポテト</th>\n",
       "      <th>普通のバーガー + 普通のポテト</th>\n",
       "    </tr>\n",
       "  </thead>\n",
       "  <tbody>\n",
       "    <tr>\n",
       "      <th>1</th>\n",
       "      <td>80</td>\n",
       "      <td>85</td>\n",
       "      <td>60</td>\n",
       "      <td>55</td>\n",
       "    </tr>\n",
       "    <tr>\n",
       "      <th>2</th>\n",
       "      <td>85</td>\n",
       "      <td>65</td>\n",
       "      <td>70</td>\n",
       "      <td>65</td>\n",
       "    </tr>\n",
       "    <tr>\n",
       "      <th>3</th>\n",
       "      <td>75</td>\n",
       "      <td>80</td>\n",
       "      <td>80</td>\n",
       "      <td>50</td>\n",
       "    </tr>\n",
       "    <tr>\n",
       "      <th>4</th>\n",
       "      <td>70</td>\n",
       "      <td>75</td>\n",
       "      <td>75</td>\n",
       "      <td>70</td>\n",
       "    </tr>\n",
       "    <tr>\n",
       "      <th>5</th>\n",
       "      <td>75</td>\n",
       "      <td>85</td>\n",
       "      <td>65</td>\n",
       "      <td>50</td>\n",
       "    </tr>\n",
       "    <tr>\n",
       "      <th>6</th>\n",
       "      <td>60</td>\n",
       "      <td>65</td>\n",
       "      <td>60</td>\n",
       "      <td>65</td>\n",
       "    </tr>\n",
       "    <tr>\n",
       "      <th>7</th>\n",
       "      <td>70</td>\n",
       "      <td>75</td>\n",
       "      <td>70</td>\n",
       "      <td>75</td>\n",
       "    </tr>\n",
       "    <tr>\n",
       "      <th>8</th>\n",
       "      <td>75</td>\n",
       "      <td>60</td>\n",
       "      <td>75</td>\n",
       "      <td>65</td>\n",
       "    </tr>\n",
       "    <tr>\n",
       "      <th>9</th>\n",
       "      <td>85</td>\n",
       "      <td>80</td>\n",
       "      <td>80</td>\n",
       "      <td>75</td>\n",
       "    </tr>\n",
       "    <tr>\n",
       "      <th>10</th>\n",
       "      <td>70</td>\n",
       "      <td>70</td>\n",
       "      <td>65</td>\n",
       "      <td>65</td>\n",
       "    </tr>\n",
       "    <tr>\n",
       "      <th>11</th>\n",
       "      <td>75</td>\n",
       "      <td>75</td>\n",
       "      <td>65</td>\n",
       "      <td>70</td>\n",
       "    </tr>\n",
       "    <tr>\n",
       "      <th>12</th>\n",
       "      <td>85</td>\n",
       "      <td>80</td>\n",
       "      <td>75</td>\n",
       "      <td>55</td>\n",
       "    </tr>\n",
       "    <tr>\n",
       "      <th>13</th>\n",
       "      <td>75</td>\n",
       "      <td>65</td>\n",
       "      <td>70</td>\n",
       "      <td>65</td>\n",
       "    </tr>\n",
       "    <tr>\n",
       "      <th>14</th>\n",
       "      <td>85</td>\n",
       "      <td>85</td>\n",
       "      <td>85</td>\n",
       "      <td>70</td>\n",
       "    </tr>\n",
       "    <tr>\n",
       "      <th>15</th>\n",
       "      <td>90</td>\n",
       "      <td>75</td>\n",
       "      <td>60</td>\n",
       "      <td>65</td>\n",
       "    </tr>\n",
       "  </tbody>\n",
       "</table>\n",
       "</div>"
      ],
      "text/plain": [
       "    ピリ辛バーガー + ピリ辛ポテト  ピリ辛バーガー + 普通のポテト  普通のバーガー + ピリ辛ポテト  普通のバーガー + 普通のポテト\n",
       "1                 80                85                60                55\n",
       "2                 85                65                70                65\n",
       "3                 75                80                80                50\n",
       "4                 70                75                75                70\n",
       "5                 75                85                65                50\n",
       "6                 60                65                60                65\n",
       "7                 70                75                70                75\n",
       "8                 75                60                75                65\n",
       "9                 85                80                80                75\n",
       "10                70                70                65                65\n",
       "11                75                75                65                70\n",
       "12                85                80                75                55\n",
       "13                75                65                70                65\n",
       "14                85                85                85                70\n",
       "15                90                75                60                65"
      ]
     },
     "execution_count": 64,
     "metadata": {},
     "output_type": "execute_result"
    }
   ],
   "source": [
    "import pandas as pd\n",
    "import numpy as np\n",
    "# 以下の４つをそれぞれ「群」と呼びます。\n",
    "a1b1 = [80, 85, 75, 70, 75, 60, 70, 75, 85, 70, 75, 85, 75, 85, 90] # ピリ辛バーガー + ピリ辛ポテト\n",
    "a1b2 = [85, 65, 80, 75, 85, 65, 75, 60, 80, 70, 75, 80, 65, 85, 75] # ピリ辛バーガー + 普通のポテト\n",
    "a2b1 = [60, 70, 80, 75, 65, 60, 70, 75, 80, 65, 65, 75, 70, 85, 60] # 普通のハンバーガー + ピリ辛ポテト\n",
    "a2b2 = [55, 65, 50, 70, 50, 65, 75, 65, 75, 65, 70, 55, 65, 70, 65] # 普通のハンバーガー + 普通のポテト\n",
    "\n",
    "# 以下の４つのうち、上２つを「要因１（バーガーの味）」、下２つを「要因２（ポテトの味）」と呼びます。\n",
    "a1 = a1b1 + a1b2 # ピリ辛バーガーのデータ。\n",
    "a2 = a2b1 + a2b2 # 普通のバーガーのデータ。\n",
    "b1 = a1b1 + a2b1 # ピリ辛ポテトのデータ。\n",
    "b2 = a1b2 + a2b2 # 普通のポテトのデータ。\n",
    "\n",
    "a = np.array([a1b1, a1b2, a2b1, a2b2])\n",
    "a = np.transpose(a)\n",
    "num = (1,2,3,4,5,6,7,8,9,10,11,12,13,14,15)\n",
    "lab = ('ピリ辛バーガー + ピリ辛ポテト','ピリ辛バーガー + 普通のポテト', '普通のバーガー + ピリ辛ポテト','普通のバーガー + 普通のポテト')\n",
    "\n",
    "df = pd.DataFrame(a, index = num, columns = lab)\n",
    "\n",
    "df2 = pd.DataFrame({'要素' : ['ピリ辛バーガー + ピリ辛ポテト','ピリ辛バーガー + 普通のポテト', '普通のバーガー + ピリ辛ポテト','普通のバーガー + 普通のポテト', 'ピリ辛バーガー','ピリ辛ポテト','普通のバーガー','普通のポテト','全体'],\n",
    "                    '平均' : ['a','b','c','d','e','f','g','h','i'],\n",
    "                    '偏差平方和' : ['j','k','l','m','-','-','-','-','n']})\n",
    "\n",
    "df3 = pd.DataFrame({'要因' : ['要因A','要因B', '交互作用','残差','全体'],\n",
    "                    '偏差平方和' : ['o','p','q','r','n'],\n",
    "                    '自由度' : ['s','t','u','w','v'],\n",
    "                    '平均平方' : ['x','y','z','aa','-'],\n",
    "                    'F' : ['bb','cc','dd','-','-',]})\n",
    "\n",
    "df"
   ]
  },
  {
   "cell_type": "code",
   "execution_count": 56,
   "metadata": {},
   "outputs": [
    {
     "data": {
      "text/html": [
       "<div>\n",
       "<style>\n",
       "    .dataframe thead tr:only-child th {\n",
       "        text-align: right;\n",
       "    }\n",
       "\n",
       "    .dataframe thead th {\n",
       "        text-align: left;\n",
       "    }\n",
       "\n",
       "    .dataframe tbody tr th {\n",
       "        vertical-align: top;\n",
       "    }\n",
       "</style>\n",
       "<table border=\"1\" class=\"dataframe\">\n",
       "  <thead>\n",
       "    <tr style=\"text-align: right;\">\n",
       "      <th></th>\n",
       "      <th>偏差平方和</th>\n",
       "      <th>平均</th>\n",
       "      <th>要素</th>\n",
       "    </tr>\n",
       "  </thead>\n",
       "  <tbody>\n",
       "    <tr>\n",
       "      <th>0</th>\n",
       "      <td>j</td>\n",
       "      <td>a</td>\n",
       "      <td>ピリ辛バーガー + ピリ辛ポテト</td>\n",
       "    </tr>\n",
       "    <tr>\n",
       "      <th>1</th>\n",
       "      <td>k</td>\n",
       "      <td>b</td>\n",
       "      <td>ピリ辛バーガー + 普通のポテト</td>\n",
       "    </tr>\n",
       "    <tr>\n",
       "      <th>2</th>\n",
       "      <td>l</td>\n",
       "      <td>c</td>\n",
       "      <td>普通のバーガー + ピリ辛ポテト</td>\n",
       "    </tr>\n",
       "    <tr>\n",
       "      <th>3</th>\n",
       "      <td>m</td>\n",
       "      <td>d</td>\n",
       "      <td>普通のバーガー + 普通のポテト</td>\n",
       "    </tr>\n",
       "    <tr>\n",
       "      <th>4</th>\n",
       "      <td>-</td>\n",
       "      <td>e</td>\n",
       "      <td>ピリ辛バーガー</td>\n",
       "    </tr>\n",
       "    <tr>\n",
       "      <th>5</th>\n",
       "      <td>-</td>\n",
       "      <td>f</td>\n",
       "      <td>ピリ辛ポテト</td>\n",
       "    </tr>\n",
       "    <tr>\n",
       "      <th>6</th>\n",
       "      <td>-</td>\n",
       "      <td>g</td>\n",
       "      <td>普通のバーガー</td>\n",
       "    </tr>\n",
       "    <tr>\n",
       "      <th>7</th>\n",
       "      <td>-</td>\n",
       "      <td>h</td>\n",
       "      <td>普通のポテト</td>\n",
       "    </tr>\n",
       "    <tr>\n",
       "      <th>8</th>\n",
       "      <td>n</td>\n",
       "      <td>i</td>\n",
       "      <td>全体</td>\n",
       "    </tr>\n",
       "  </tbody>\n",
       "</table>\n",
       "</div>"
      ],
      "text/plain": [
       "  偏差平方和 平均                要素\n",
       "0     j  a  ピリ辛バーガー + ピリ辛ポテト\n",
       "1     k  b  ピリ辛バーガー + 普通のポテト\n",
       "2     l  c  普通のバーガー + ピリ辛ポテト\n",
       "3     m  d  普通のバーガー + 普通のポテト\n",
       "4     -  e           ピリ辛バーガー\n",
       "5     -  f            ピリ辛ポテト\n",
       "6     -  g           普通のバーガー\n",
       "7     -  h            普通のポテト\n",
       "8     n  i                全体"
      ]
     },
     "execution_count": 56,
     "metadata": {},
     "output_type": "execute_result"
    }
   ],
   "source": [
    "df2"
   ]
  },
  {
   "cell_type": "code",
   "execution_count": 65,
   "metadata": {},
   "outputs": [
    {
     "data": {
      "text/html": [
       "<div>\n",
       "<style>\n",
       "    .dataframe thead tr:only-child th {\n",
       "        text-align: right;\n",
       "    }\n",
       "\n",
       "    .dataframe thead th {\n",
       "        text-align: left;\n",
       "    }\n",
       "\n",
       "    .dataframe tbody tr th {\n",
       "        vertical-align: top;\n",
       "    }\n",
       "</style>\n",
       "<table border=\"1\" class=\"dataframe\">\n",
       "  <thead>\n",
       "    <tr style=\"text-align: right;\">\n",
       "      <th></th>\n",
       "      <th>F</th>\n",
       "      <th>偏差平方和</th>\n",
       "      <th>平均平方</th>\n",
       "      <th>自由度</th>\n",
       "      <th>要因</th>\n",
       "    </tr>\n",
       "  </thead>\n",
       "  <tbody>\n",
       "    <tr>\n",
       "      <th>0</th>\n",
       "      <td>bb</td>\n",
       "      <td>o</td>\n",
       "      <td>x</td>\n",
       "      <td>s</td>\n",
       "      <td>要因A</td>\n",
       "    </tr>\n",
       "    <tr>\n",
       "      <th>1</th>\n",
       "      <td>cc</td>\n",
       "      <td>p</td>\n",
       "      <td>y</td>\n",
       "      <td>t</td>\n",
       "      <td>要因B</td>\n",
       "    </tr>\n",
       "    <tr>\n",
       "      <th>2</th>\n",
       "      <td>dd</td>\n",
       "      <td>q</td>\n",
       "      <td>z</td>\n",
       "      <td>u</td>\n",
       "      <td>交互作用</td>\n",
       "    </tr>\n",
       "    <tr>\n",
       "      <th>3</th>\n",
       "      <td>-</td>\n",
       "      <td>r</td>\n",
       "      <td>aa</td>\n",
       "      <td>w</td>\n",
       "      <td>残差</td>\n",
       "    </tr>\n",
       "    <tr>\n",
       "      <th>4</th>\n",
       "      <td>-</td>\n",
       "      <td>n</td>\n",
       "      <td>-</td>\n",
       "      <td>v</td>\n",
       "      <td>全体</td>\n",
       "    </tr>\n",
       "  </tbody>\n",
       "</table>\n",
       "</div>"
      ],
      "text/plain": [
       "    F 偏差平方和 平均平方 自由度    要因\n",
       "0  bb     o    x   s   要因A\n",
       "1  cc     p    y   t   要因B\n",
       "2  dd     q    z   u  交互作用\n",
       "3   -     r   aa   w    残差\n",
       "4   -     n    -   v    全体"
      ]
     },
     "execution_count": 65,
     "metadata": {},
     "output_type": "execute_result"
    }
   ],
   "source": [
    "df3"
   ]
  },
  {
   "cell_type": "code",
   "execution_count": 67,
   "metadata": {},
   "outputs": [
    {
     "name": "stdout",
     "output_type": "stream",
     "text": [
      "a： 77.0\n",
      "b： 74.66666666666667\n",
      "c： 70.33333333333333\n",
      "d： 64.0\n",
      "e： 75.83333333333333\n",
      "f： 73.66666666666667\n",
      "g： 67.16666666666667\n",
      "h： 69.33333333333333\n",
      "i： 71.5\n"
     ]
    }
   ],
   "source": [
    "# 各項目の平均値（上表 a, b, c, d, e, f, g, h, i ）\n",
    "import keiichi as k1\n",
    "all = a1b1 + a1b2 + a2b1 + a2b2\n",
    "a = k1.average(a1b1)\n",
    "b = k1.average(a1b2)\n",
    "c = k1.average(a2b1)\n",
    "d = k1.average(a2b2)\n",
    "e = k1.average(a1)\n",
    "f = k1.average(b1)\n",
    "g = k1.average(a2)\n",
    "h = k1.average(b2)\n",
    "i = k1.average(all)\n",
    "print('a： {0}\\nb： {1}\\nc： {2}\\nd： {3}\\ne： {4}\\nf： {5}\\ng： {6}\\nh： {7}\\ni： {8}' .format(a, b, c,d,e,f,g,h,i))"
   ]
  },
  {
   "cell_type": "code",
   "execution_count": 69,
   "metadata": {},
   "outputs": [
    {
     "name": "stdout",
     "output_type": "stream",
     "text": [
      "j： 890.0\n",
      "k： 923.3333333333334\n",
      "l： 873.3333333333334\n",
      "m： 910.0\n"
     ]
    }
   ],
   "source": [
    "# 各群の偏差平方和（上表 j, k, l, m ）\n",
    "j = k1.varsum(a1b1)\n",
    "k = k1.varsum(a1b2)\n",
    "l = k1.varsum(a2b1)\n",
    "m = k1.varsum(a2b2)\n",
    "print('j： {0}\\nk： {1}\\nl： {2}\\nm： {3}' .format(j, k, l,m))"
   ]
  },
  {
   "cell_type": "code",
   "execution_count": 73,
   "metadata": {},
   "outputs": [
    {
     "name": "stdout",
     "output_type": "stream",
     "text": [
      "n: 5065.0\n"
     ]
    }
   ],
   "source": [
    "# 全体の偏差平方和（上表 n ）\n",
    "n = k1.varsum(all)\n",
    "print('n:',n)"
   ]
  },
  {
   "cell_type": "code",
   "execution_count": 74,
   "metadata": {},
   "outputs": [
    {
     "name": "stdout",
     "output_type": "stream",
     "text": [
      "o: 1126.6666666666642\n"
     ]
    }
   ],
   "source": [
    "# 要因Aによる残差（偏差平方和）（上表 o )\n",
    "o = (e - i)**2 * len(a1) + (g - i)**2 * len(a2)\n",
    "print('o:',o)"
   ]
  },
  {
   "cell_type": "code",
   "execution_count": 76,
   "metadata": {},
   "outputs": [
    {
     "name": "stdout",
     "output_type": "stream",
     "text": [
      "p: 281.6666666666679\n"
     ]
    }
   ],
   "source": [
    "# 要因Bによる残差（偏差平方和） (上表 p )\n",
    "p = (f - i)**2 * len(b1) + (h - i)**2 * len(b2)\n",
    "print('p:',p)"
   ]
  },
  {
   "cell_type": "code",
   "execution_count": 82,
   "metadata": {},
   "outputs": [
    {
     "name": "stdout",
     "output_type": "stream",
     "text": [
      "q: 60.00000000000182\n"
     ]
    }
   ],
   "source": [
    "# 交互作用による残差（偏差平方和） (上表 q )\n",
    "q1 = (a - i)**2 *len(a1b1) + (b - i)**2 *len(a1b2) + (c - i)**2 *len(a2b1) + (d - i)**2 *len(a2b2)\n",
    "q = q1 - o - p\n",
    "print('q:',q)"
   ]
  },
  {
   "cell_type": "code",
   "execution_count": 83,
   "metadata": {},
   "outputs": [
    {
     "name": "stdout",
     "output_type": "stream",
     "text": [
      "r: 3596.666666666667\n"
     ]
    }
   ],
   "source": [
    "# 残りの残差（偏差平方和） (上表 r )\n",
    "r = j + k + l + m\n",
    "print('r:',r)"
   ]
  },
  {
   "cell_type": "code",
   "execution_count": 84,
   "metadata": {},
   "outputs": [
    {
     "name": "stdout",
     "output_type": "stream",
     "text": [
      "s： 1\n",
      "t： 1\n",
      "u： 1\n",
      "v： 59\n",
      "w： 56\n"
     ]
    }
   ],
   "source": [
    "# 自由度。\n",
    "s = 2 - 1\n",
    "t = 2 - 1\n",
    "u = s * t\n",
    "v = len(all) - 1\n",
    "w = v - s - t - u\n",
    "print('s： {0}\\nt： {1}\\nu： {2}\\nv： {3}\\nw： {4}' .format(s,t,u,v,w))"
   ]
  },
  {
   "cell_type": "code",
   "execution_count": 85,
   "metadata": {},
   "outputs": [
    {
     "name": "stdout",
     "output_type": "stream",
     "text": [
      "x： 1126.6666666666642\n",
      "y： 281.6666666666679\n",
      "z： 60.00000000000182\n",
      "aa： 64.22619047619048\n"
     ]
    }
   ],
   "source": [
    "# 要因A、要因B、交互作用、残差の平均平方(上表 x, y, z, aa )\n",
    "x = o / s\n",
    "y = p / t\n",
    "z = q / u\n",
    "aa = r / w\n",
    "print('x： {0}\\ny： {1}\\nz： {2}\\naa： {3}' .format(x, y, z,aa))"
   ]
  },
  {
   "cell_type": "code",
   "execution_count": 86,
   "metadata": {},
   "outputs": [
    {
     "name": "stdout",
     "output_type": "stream",
     "text": [
      "bb： 17.542168674698758\n",
      "cc： 4.385542168674717\n",
      "dd： 0.9341983317887215\n"
     ]
    }
   ],
   "source": [
    "# F値\n",
    "bb = x / aa\n",
    "cc = y / aa\n",
    "dd = q / aa\n",
    "print('bb： {0}\\ncc： {1}\\ndd： {2}' .format(bb, cc, dd))"
   ]
  },
  {
   "cell_type": "code",
   "execution_count": null,
   "metadata": {
    "collapsed": true
   },
   "outputs": [],
   "source": [
    "#今回の群間の自由度は3で、郡内の自由度は56より、優位水準1％のF値は4.13\n",
    "#よって、要因A、要因Bの主効果に有意差があり、交互作用には有意差はないと考えられる。"
   ]
  }
 ],
 "metadata": {
  "kernelspec": {
   "display_name": "Python 3",
   "language": "python",
   "name": "python3"
  },
  "language_info": {
   "codemirror_mode": {
    "name": "ipython",
    "version": 3
   },
   "file_extension": ".py",
   "mimetype": "text/x-python",
   "name": "python",
   "nbconvert_exporter": "python",
   "pygments_lexer": "ipython3",
   "version": "3.6.2"
  }
 },
 "nbformat": 4,
 "nbformat_minor": 2
}
