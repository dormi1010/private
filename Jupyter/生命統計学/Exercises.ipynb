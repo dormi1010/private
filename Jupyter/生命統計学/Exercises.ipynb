{
 "cells": [
  {
   "cell_type": "code",
   "execution_count": 1,
   "metadata": {
    "collapsed": true
   },
   "outputs": [],
   "source": [
    "import module1 as m1\n",
    "import math\n",
    "import pandas as pd\n",
    "import keiichi as k1\n",
    "from scipy import stats as stats\n",
    "import urllib.request"
   ]
  },
  {
   "cell_type": "code",
   "execution_count": 2,
   "metadata": {},
   "outputs": [
    {
     "name": "stdout",
     "output_type": "stream",
     "text": [
      "19.764705882352942 12.235294117647058 22.235294117647058 13.76470588235294\n",
      "4.484\n"
     ]
    },
    {
     "data": {
      "text/plain": [
       "'\\n有意水準1%のとき、カイ二乗値は6.63であり、今回求めたものより大きい。\\nよって、帰無仮説が採択される。\\n'"
      ]
     },
     "execution_count": 2,
     "metadata": {},
     "output_type": "execute_result"
    }
   ],
   "source": [
    "# 問題1\n",
    "'''\n",
    "(1) 担任教員の専門は、担当クラスの子どもの科目の好みには影響しない。\n",
    "(2) 担任教員の専門が、担当クラスの子どもの科目の好みに影響する。\n",
    "'''\n",
    "#(3) 桜と桃の人数比は8:9\n",
    "sk = 42 / 68 * 32\n",
    "ss = 26 / 68 * 32\n",
    "mk = 42 / 68 * 36\n",
    "ms = 26 / 68 * 36\n",
    "print(sk,ss,mk,ms)\n",
    "#(4) （（（観測度数－期待度数）の２乗）÷期待度数）の総和\n",
    "kai = (((24 - sk)**2)/sk) + (((8 - ss)**2)/ss) + (((18 - mk)**2)/mk) + (((18 - ms)**2)/ms)\n",
    "print(round(kai,3))\n",
    "#(5) 自由度は1*1 \n",
    "'''\n",
    "有意水準1%のとき、カイ二乗値は6.63であり、今回求めたものより大きい。\n",
    "よって、帰無仮説が採択される。\n",
    "'''"
   ]
  },
  {
   "cell_type": "code",
   "execution_count": 3,
   "metadata": {},
   "outputs": [
    {
     "name": "stdout",
     "output_type": "stream",
     "text": [
      "-1.9730501898890833\n",
      "36\n"
     ]
    },
    {
     "data": {
      "text/plain": [
       "'自由度は36なので、比較的近い40を使用すると、有意水準1%で2.704となるので、帰無仮説が採択される。\\n'"
      ]
     },
     "execution_count": 3,
     "metadata": {},
     "output_type": "execute_result"
    }
   ],
   "source": [
    "#　問題2\n",
    "sakura = (7,8,10,5,8,7,9,5,6,9,10,6,7,8,7,9,10,6)\n",
    "momo = (9,9,6,10,9,8,10,7,9,10,6,8,9,9,10,7,8,8,10,9)\n",
    "'''\n",
    "(1) 算数の分数の計算を教えるための,マンガを使った新しい方法には効果はない\n",
    "(2) 算数の分数の計算を教えるための,マンガを使った新しい方法には効果がある\n",
    "'''\n",
    "# t＝（標本平均の差）／sqrt（推定母分散×（（1／標本数A）＋（1／標本数B）） \n",
    "#* 推定母分散＝（標本Aの平均からの偏差の平方和＋標本Bの平均からの偏差の平方和）／（（標本数A－1）＋（標本数B－1））\n",
    "#(3)\n",
    "pe = k1.pvar_est(sakura,momo)\n",
    "sa = k1.average(sakura) - k1.average(momo)\n",
    "t = sa / math.sqrt(pe * ((1 / len(sakura))+ (1 / len(momo))))\n",
    "print (t)\n",
    "print((len(sakura) - 1) + (len(momo) - 1))\n",
    "#(4) \n",
    "'''自由度は36なので、比較的近い40を使用すると、有意水準1%で2.704となるので、帰無仮説が採択される。\n",
    "'''"
   ]
  },
  {
   "cell_type": "code",
   "execution_count": 4,
   "metadata": {},
   "outputs": [
    {
     "name": "stdout",
     "output_type": "stream",
     "text": [
      "-0.61\n",
      "16\n"
     ]
    },
    {
     "data": {
      "text/plain": [
       "'自由度は16で、有意水準1%で2.921となるため帰無仮説が採択される。'"
      ]
     },
     "execution_count": 4,
     "metadata": {},
     "output_type": "execute_result"
    }
   ],
   "source": [
    "#　問題3\n",
    "before = (9,8,10,5,9,10,10,8,10,10,6,8,9,10,9,10,9)\n",
    "after = (9,9,10,7,6,10,10,9,8,10,7,8,10,10,10,10,10,10)\n",
    "sa = []\n",
    "for w, m in zip(before, after):\n",
    "    sa.append(w - m)\n",
    "'''\n",
    "(1) 算数の分数の計算を教えるための,マンガを使った新しい方法には効果はない\n",
    "(2) 算数の分数の計算を教えるための,マンガを使った新しい方法には効果がある\n",
    "'''\n",
    "#(3)\n",
    "se = k1.SE(sa)\n",
    "t = k1.average(sa)\n",
    "print(round((t/se),2))\n",
    "print(len(sa) - 1)\n",
    "#(4) \n",
    "'''自由度は16で、有意水準1%で2.921となるため帰無仮説が採択される。'''"
   ]
  },
  {
   "cell_type": "code",
   "execution_count": 5,
   "metadata": {},
   "outputs": [
    {
     "name": "stdout",
     "output_type": "stream",
     "text": [
      "5.6 6.43 7.38\n",
      "1.57 2.1 2.23\n"
     ]
    },
    {
     "data": {
      "text/plain": [
       "F_onewayResult(statistic=5.7872448842760207, pvalue=0.0060272080449406233)"
      ]
     },
     "execution_count": 5,
     "metadata": {},
     "output_type": "execute_result"
    }
   ],
   "source": [
    "#問題4\n",
    "col1 = (6,5,7,6,8,4,6,5,8,4,5,6,5,4,5)\n",
    "col2 = (5,6,9,7,7,6,8,5,6,9,5,4,7,6)\n",
    "col3 = (6,8,9,6,8,6,9,7,6,5,9,6,10,8,9,6)\n",
    "all = col1 + col2 + col3\n",
    "#(1)\n",
    "av1 = round((k1.average(col1)),2)\n",
    "av2 = round((k1.average(col2)),2)\n",
    "av3 = round((k1.average(col3)),2)\n",
    "av = round((k1.average(all)),2)\n",
    "va1 = round((k1.variance(col1)),2)\n",
    "va2 = round((k1.variance(col2)),2)\n",
    "va3 = round((k1.variance(col3)),2)\n",
    "print(av1,av2,av3)\n",
    "print(va1,va2,va3)\n",
    "'''\n",
    "(2) 三つのグループの点数には、有意な差がない\n",
    "(3) 三つのグループの点数のいずれかに、有意な差がある\n",
    "'''\n",
    "#(4)\n",
    "stats.f_oneway(col1,col2,col3)"
   ]
  },
  {
   "cell_type": "code",
   "execution_count": 6,
   "metadata": {
    "collapsed": true
   },
   "outputs": [],
   "source": [
    "#p値<0.01より、有意水準1%にて帰無仮説は棄却され、対立仮説が採用される。"
   ]
  },
  {
   "cell_type": "code",
   "execution_count": 7,
   "metadata": {},
   "outputs": [
    {
     "data": {
      "text/html": [
       "<div>\n",
       "<style>\n",
       "    .dataframe thead tr:only-child th {\n",
       "        text-align: right;\n",
       "    }\n",
       "\n",
       "    .dataframe thead th {\n",
       "        text-align: left;\n",
       "    }\n",
       "\n",
       "    .dataframe tbody tr th {\n",
       "        vertical-align: top;\n",
       "    }\n",
       "</style>\n",
       "<table border=\"1\" class=\"dataframe\">\n",
       "  <thead>\n",
       "    <tr style=\"text-align: right;\">\n",
       "      <th></th>\n",
       "      <th>入学試験の点数</th>\n",
       "      <th>学業成績</th>\n",
       "      <th>高校の平均評定</th>\n",
       "    </tr>\n",
       "    <tr>\n",
       "      <th>学生</th>\n",
       "      <th></th>\n",
       "      <th></th>\n",
       "      <th></th>\n",
       "    </tr>\n",
       "  </thead>\n",
       "  <tbody>\n",
       "    <tr>\n",
       "      <th>1</th>\n",
       "      <td>440</td>\n",
       "      <td>1.57</td>\n",
       "      <td>5.7</td>\n",
       "    </tr>\n",
       "    <tr>\n",
       "      <th>2</th>\n",
       "      <td>448</td>\n",
       "      <td>1.83</td>\n",
       "      <td>6.8</td>\n",
       "    </tr>\n",
       "    <tr>\n",
       "      <th>3</th>\n",
       "      <td>455</td>\n",
       "      <td>2.05</td>\n",
       "      <td>6.2</td>\n",
       "    </tr>\n",
       "    <tr>\n",
       "      <th>4</th>\n",
       "      <td>460</td>\n",
       "      <td>1.14</td>\n",
       "      <td>5.5</td>\n",
       "    </tr>\n",
       "    <tr>\n",
       "      <th>5</th>\n",
       "      <td>473</td>\n",
       "      <td>2.73</td>\n",
       "      <td>6.0</td>\n",
       "    </tr>\n",
       "  </tbody>\n",
       "</table>\n",
       "</div>"
      ],
      "text/plain": [
       "    入学試験の点数  学業成績  高校の平均評定\n",
       "学生                        \n",
       "1       440  1.57      5.7\n",
       "2       448  1.83      6.8\n",
       "3       455  2.05      6.2\n",
       "4       460  1.14      5.5\n",
       "5       473  2.73      6.0"
      ]
     },
     "execution_count": 7,
     "metadata": {},
     "output_type": "execute_result"
    }
   ],
   "source": [
    "#問題5\n",
    "url = 'https://raw.githubusercontent.com/maskot1977/ipython_notebook/master/toydata/entrance_exam2.txt'\n",
    "urllib.request.urlretrieve(url, 'excecises.txt') \n",
    "df = pd.read_csv('excecises.txt', sep = '\\s+',index_col=0)\n",
    "df.head()"
   ]
  },
  {
   "cell_type": "code",
   "execution_count": 8,
   "metadata": {},
   "outputs": [
    {
     "data": {
      "text/html": [
       "<div>\n",
       "<style>\n",
       "    .dataframe thead tr:only-child th {\n",
       "        text-align: right;\n",
       "    }\n",
       "\n",
       "    .dataframe thead th {\n",
       "        text-align: left;\n",
       "    }\n",
       "\n",
       "    .dataframe tbody tr th {\n",
       "        vertical-align: top;\n",
       "    }\n",
       "</style>\n",
       "<table border=\"1\" class=\"dataframe\">\n",
       "  <thead>\n",
       "    <tr style=\"text-align: right;\">\n",
       "      <th></th>\n",
       "      <th>入学試験の点数</th>\n",
       "      <th>学業成績</th>\n",
       "      <th>高校の平均評定</th>\n",
       "    </tr>\n",
       "  </thead>\n",
       "  <tbody>\n",
       "    <tr>\n",
       "      <th>入学試験の点数</th>\n",
       "      <td>1.000000</td>\n",
       "      <td>0.761798</td>\n",
       "      <td>0.690864</td>\n",
       "    </tr>\n",
       "    <tr>\n",
       "      <th>学業成績</th>\n",
       "      <td>0.761798</td>\n",
       "      <td>1.000000</td>\n",
       "      <td>0.607225</td>\n",
       "    </tr>\n",
       "    <tr>\n",
       "      <th>高校の平均評定</th>\n",
       "      <td>0.690864</td>\n",
       "      <td>0.607225</td>\n",
       "      <td>1.000000</td>\n",
       "    </tr>\n",
       "  </tbody>\n",
       "</table>\n",
       "</div>"
      ],
      "text/plain": [
       "          入学試験の点数      学業成績   高校の平均評定\n",
       "入学試験の点数  1.000000  0.761798  0.690864\n",
       "学業成績     0.761798  1.000000  0.607225\n",
       "高校の平均評定  0.690864  0.607225  1.000000"
      ]
     },
     "execution_count": 8,
     "metadata": {},
     "output_type": "execute_result"
    }
   ],
   "source": [
    "#(1)\n",
    "df.corr()"
   ]
  },
  {
   "cell_type": "code",
   "execution_count": 9,
   "metadata": {},
   "outputs": [
    {
     "data": {
      "text/plain": [
       "0.59599999999999997"
      ]
     },
     "execution_count": 9,
     "metadata": {},
     "output_type": "execute_result"
    }
   ],
   "source": [
    "#(2)\n",
    "def partial_correlation(a, b, y):\n",
    "    ay = m1.correlation(a, y)\n",
    "    by = m1.correlation(b, y)\n",
    "    ab = m1.correlation(a, b)\n",
    "    c = by - (ay * ab)\n",
    "    d = math.sqrt(1 - ay ** 2) * math.sqrt(1 - ab ** 2)\n",
    "    return(round(c/d,3))\n",
    "a = df['入学試験の点数']\n",
    "b = df['学業成績']\n",
    "c = df['高校の平均評定']\n",
    "partial_correlation(c, a, b)"
   ]
  },
  {
   "cell_type": "code",
   "execution_count": 10,
   "metadata": {
    "collapsed": true
   },
   "outputs": [],
   "source": [
    "#(3) 入学試験の点数と学業成績の間では比較的相関が弱い。高校の平均評定の方が学業成績に強く影響する可能性がある。"
   ]
  },
  {
   "cell_type": "code",
   "execution_count": 11,
   "metadata": {},
   "outputs": [
    {
     "name": "stdout",
     "output_type": "stream",
     "text": [
      "   Coefficients     Name\n",
      "0      0.006935  入学試験の点数\n",
      "1      0.128121  高校の平均評定\n",
      "-2.09411133494\n"
     ]
    }
   ],
   "source": [
    "#(4) [学業成績]　＝　偏相関係数a＊[入学試験の点数]　+　偏相関係数b *[高校の平均評定]　+ 定数\n",
    "#(5)(6)\n",
    "from sklearn import linear_model\n",
    "clf = linear_model.LinearRegression()\n",
    "# 説明変数\n",
    "df1 = df.drop('学業成績', axis=1)\n",
    "X = df1.as_matrix()\n",
    " \n",
    "# 目的変数\n",
    "Y = df['学業成績'].as_matrix()\n",
    " \n",
    "# 予測モデルを作成\n",
    "clf.fit(X, Y)\n",
    " \n",
    "# 偏回帰係数\n",
    "print(pd.DataFrame({\"Name\":df1.columns,\n",
    "                    \"Coefficients\":clf.coef_}).sort_values(by='Coefficients') )\n",
    " \n",
    "# 切片 (誤差)\n",
    "print(clf.intercept_)\n",
    "\n"
   ]
  },
  {
   "cell_type": "code",
   "execution_count": 12,
   "metadata": {},
   "outputs": [
    {
     "data": {
      "text/plain": [
       "'\\n入学後の学業成績は、実際は入学試験の点数にはあまり左右されず、むしろ高校の平均評定のほうが大きな影響を与えていることが分かった。\\n'"
      ]
     },
     "execution_count": 12,
     "metadata": {},
     "output_type": "execute_result"
    }
   ],
   "source": [
    "#(7)\n",
    "'''\n",
    "入学後の学業成績は、実際は入学試験の点数にはあまり左右されず、むしろ高校の平均評定のほうが大きな影響を与えていることが分かった。\n",
    "'''"
   ]
  },
  {
   "cell_type": "code",
   "execution_count": null,
   "metadata": {
    "collapsed": true
   },
   "outputs": [],
   "source": []
  }
 ],
 "metadata": {
  "kernelspec": {
   "display_name": "Python 3",
   "language": "python",
   "name": "python3"
  },
  "language_info": {
   "codemirror_mode": {
    "name": "ipython",
    "version": 3
   },
   "file_extension": ".py",
   "mimetype": "text/x-python",
   "name": "python",
   "nbconvert_exporter": "python",
   "pygments_lexer": "ipython3",
   "version": "3.6.2"
  }
 },
 "nbformat": 4,
 "nbformat_minor": 2
}
