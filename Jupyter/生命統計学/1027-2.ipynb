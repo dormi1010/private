{
 "cells": [
  {
   "cell_type": "code",
   "execution_count": 1,
   "metadata": {
    "collapsed": true
   },
   "outputs": [],
   "source": [
    "import module1 as m1\n",
    "import urllib.request\n",
    "import matplotlib.pyplot as plt\n",
    "import math\n",
    "%matplotlib inline"
   ]
  },
  {
   "cell_type": "code",
   "execution_count": 2,
   "metadata": {
    "collapsed": true
   },
   "outputs": [],
   "source": [
    "url = 'https://raw.githubusercontent.com/maskot1977/ipython_notebook/master/toydata/ice_cream3.txt'\n",
    "urllib.request.urlretrieve(url, 'ice_cream4.txt')\n",
    "col1 = []\n",
    "col2 = []\n",
    "col3 = []\n",
    "col4 = []\n",
    "for i, line in enumerate(open('ice_cream4.txt', encoding='utf-8')):\n",
    "    if i == 0:\n",
    "        continue\n",
    "    c = line.split()\n",
    "    col1.append(int(c[0])) \n",
    "    col2.append(int(c[1]))\n",
    "    col3.append(int(c[2]))\n",
    "    col4.append(int(c[3]))"
   ]
  },
  {
   "cell_type": "code",
   "execution_count": 3,
   "metadata": {
    "collapsed": true
   },
   "outputs": [],
   "source": [
    "def partial_correlation(a, b, y):\n",
    "    ay = m1.correlation(a, y)\n",
    "    by = m1.correlation(b, y)\n",
    "    ab = m1.correlation(a, b)\n",
    "    c = by - (ay * ab)\n",
    "    d = math.sqrt(1 - ay ** 2) * math.sqrt(1 - ab ** 2)\n",
    "    return(round(c/d,3))"
   ]
  },
  {
   "cell_type": "code",
   "execution_count": 5,
   "metadata": {},
   "outputs": [],
   "source": [
    "def partial_regression(a, b, y):\n",
    "    ay = m1.correlation(a, y)\n",
    "    by = m1.correlation(b, y)\n",
    "    ab = m1.correlation(a, b)\n",
    "    c = (by - (ay * ab)) / (1 - ab ** 2)\n",
    "    d = m1.standard_deviation(y) / m1.standard_deviation(b)\n",
    "    return(round(c * d ,3))"
   ]
  },
  {
   "cell_type": "code",
   "execution_count": 7,
   "metadata": {},
   "outputs": [
    {
     "data": {
      "text/plain": [
       "-16.703"
      ]
     },
     "execution_count": 7,
     "metadata": {},
     "output_type": "execute_result"
    }
   ],
   "source": [
    "partial_regression(col2, col3, col4)"
   ]
  },
  {
   "cell_type": "code",
   "execution_count": 8,
   "metadata": {
    "collapsed": true
   },
   "outputs": [],
   "source": [
    "def standard_partial_regression(a, b, y):\n",
    "    ay = m1.correlation(a, y)\n",
    "    by = m1.correlation(b, y)\n",
    "    ab = m1.correlation(a, b)\n",
    "    c = (by - (ay * ab)) / (1 - ab ** 2)\n",
    "    return(round(c ,3))"
   ]
  },
  {
   "cell_type": "code",
   "execution_count": 9,
   "metadata": {},
   "outputs": [
    {
     "data": {
      "text/plain": [
       "-0.623"
      ]
     },
     "execution_count": 9,
     "metadata": {},
     "output_type": "execute_result"
    }
   ],
   "source": [
    "standard_partial_regression(col2, col3, col4)"
   ]
  },
  {
   "cell_type": "code",
   "execution_count": 13,
   "metadata": {},
   "outputs": [
    {
     "name": "stdout",
     "output_type": "stream",
     "text": [
      " p = 25.957\n",
      " q = -16.703\n",
      " m = -90.651\n"
     ]
    }
   ],
   "source": [
    "# 課題6.3\n",
    "p = partial_regression(col3, col2, col4)\n",
    "q = partial_regression(col2, col3, col4)\n",
    "m = m1.average(col4) - p * m1.average(col2) - q * m1.average(col3)\n",
    "print(' p = {0}\\n q = {1}\\n m = {2}' .format(p,q,round(m,3)))"
   ]
  },
  {
   "cell_type": "code",
   "execution_count": 24,
   "metadata": {},
   "outputs": [],
   "source": [
    "# 課題6.4\n",
    "# 予測値を求める\n",
    "fitted_y = []\n",
    "for x,y in zip(col2, col3):\n",
    "    z = m + p * x + q * y\n",
    "    fitted_y.append(z)"
   ]
  },
  {
   "cell_type": "code",
   "execution_count": 25,
   "metadata": {},
   "outputs": [
    {
     "data": {
      "text/plain": [
       "0.9757"
      ]
     },
     "execution_count": 25,
     "metadata": {},
     "output_type": "execute_result"
    }
   ],
   "source": [
    "# 予測値と実際の客数との相関係数を求める\n",
    "m1.correlation(col4, fitted_y)"
   ]
  },
  {
   "cell_type": "code",
   "execution_count": 26,
   "metadata": {
    "collapsed": true
   },
   "outputs": [],
   "source": [
    "# 課題6.5 #sqrt( (ray2 + rby2 - 2 ＊ ray ＊ rby ＊ rab) / (1 - rab2) )\n",
    "def multiple_correlation(a, b, y):\n",
    "    ay = m1.correlation(a, y)\n",
    "    by = m1.correlation(b, y)\n",
    "    ab = m1.correlation(a, b)\n",
    "    x = (ay ** 2 + by ** 2 - 2 * ay * by * ab)/ (1 - ab ** 2)\n",
    "    return math.sqrt(x)"
   ]
  },
  {
   "cell_type": "code",
   "execution_count": 27,
   "metadata": {},
   "outputs": [
    {
     "data": {
      "text/plain": [
       "0.9757565367608592"
      ]
     },
     "execution_count": 27,
     "metadata": {},
     "output_type": "execute_result"
    }
   ],
   "source": [
    "multiple_correlation(col2, col3, col4)"
   ]
  },
  {
   "cell_type": "code",
   "execution_count": null,
   "metadata": {
    "collapsed": true
   },
   "outputs": [],
   "source": []
  }
 ],
 "metadata": {
  "kernelspec": {
   "display_name": "Python 3",
   "language": "python",
   "name": "python3"
  },
  "language_info": {
   "codemirror_mode": {
    "name": "ipython",
    "version": 3
   },
   "file_extension": ".py",
   "mimetype": "text/x-python",
   "name": "python",
   "nbconvert_exporter": "python",
   "pygments_lexer": "ipython3",
   "version": "3.6.2"
  }
 },
 "nbformat": 4,
 "nbformat_minor": 2
}
