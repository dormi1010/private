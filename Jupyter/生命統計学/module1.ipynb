{
 "cells": [
  {
   "cell_type": "code",
   "execution_count": 1,
   "metadata": {
    "collapsed": true
   },
   "outputs": [],
   "source": [
    "import math"
   ]
  },
  {
   "cell_type": "code",
   "execution_count": 2,
   "metadata": {
    "collapsed": true
   },
   "outputs": [],
   "source": [
    "def average(list):\n",
    "    sum = 0\n",
    "    for length in list:\n",
    "        sum += length\n",
    "    return (sum / len(list))"
   ]
  },
  {
   "cell_type": "code",
   "execution_count": 3,
   "metadata": {
    "collapsed": true
   },
   "outputs": [],
   "source": [
    "def variance(list):\n",
    "    v = 0\n",
    "    a = average(list)\n",
    "    for x in list:\n",
    "            v += (x - a) ** 2\n",
    "    return (v / len(list))"
   ]
  },
  {
   "cell_type": "code",
   "execution_count": 4,
   "metadata": {
    "collapsed": true
   },
   "outputs": [],
   "source": [
    "def standard_deviation(list):\n",
    "    v = variance(list)\n",
    "    return(math.sqrt(v))"
   ]
  },
  {
   "cell_type": "code",
   "execution_count": 5,
   "metadata": {
    "collapsed": true
   },
   "outputs": [],
   "source": [
    "def covariance(list1, list2):\n",
    "    c1 = []\n",
    "    c2 = []\n",
    "    c3 = []\n",
    "    s = 0\n",
    "    for x in list1:\n",
    "        c1.append(x - average(list1))\n",
    "    for y in list2:\n",
    "        c2.append(y - average(list2))\n",
    "    c3 = [m * n for(m, n) in zip(c1, c2)]\n",
    "    for z in c3:\n",
    "        s += z\n",
    "    return (s / len(list1))"
   ]
  },
  {
   "cell_type": "code",
   "execution_count": 6,
   "metadata": {
    "collapsed": true
   },
   "outputs": [],
   "source": [
    "def correlation(list1, list2):\n",
    "    c = covariance(list1, list2)\n",
    "    d = standard_deviation(list1) * standard_deviation(list2)\n",
    "    cor = c / d\n",
    "    return (round(cor, 4))"
   ]
  }
 ],
 "metadata": {
  "kernelspec": {
   "display_name": "Python 3",
   "language": "python",
   "name": "python3"
  },
  "language_info": {
   "codemirror_mode": {
    "name": "ipython",
    "version": 3
   },
   "file_extension": ".py",
   "mimetype": "text/x-python",
   "name": "python",
   "nbconvert_exporter": "python",
   "pygments_lexer": "ipython3",
   "version": "3.6.2"
  }
 },
 "nbformat": 4,
 "nbformat_minor": 2
}
