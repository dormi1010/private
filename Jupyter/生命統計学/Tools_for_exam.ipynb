{
 "cells": [
  {
   "cell_type": "markdown",
   "metadata": {
    "toc": true
   },
   "source": [
    "<h1>Table of Contents<span class=\"tocSkip\"></span></h1>\n",
    "<div class=\"toc\" style=\"margin-top: 1em;\"><ul class=\"toc-item\"><li><span><a href=\"#1.-Chi-squared-Test\" data-toc-modified-id=\"1.-Chi-squared-Test-1\"><span class=\"toc-item-num\">1&nbsp;&nbsp;</span>1. Chi-squared Test</a></span><ul class=\"toc-item\"><li><span><a href=\"#1-&gt;&gt;scipy.stats.chisquare\" data-toc-modified-id=\"1->>scipy.stats.chisquare-1.1\"><span class=\"toc-item-num\">1.1&nbsp;&nbsp;</span>1 &gt;&gt;scipy.stats.chisquare</a></span></li><li><span><a href=\"#2-&gt;&gt;scipy.stats.chi2_contingency\" data-toc-modified-id=\"2->>scipy.stats.chi2_contingency-1.2\"><span class=\"toc-item-num\">1.2&nbsp;&nbsp;</span>2 &gt;&gt;scipy.stats.chi2_contingency</a></span></li></ul></li><li><span><a href=\"#2--T-test\" data-toc-modified-id=\"2--T-test-2\"><span class=\"toc-item-num\">2&nbsp;&nbsp;</span>2- T-test</a></span><ul class=\"toc-item\"><li><span><a href=\"#1-&gt;&gt;scipy.stats.ttest_rel(対応あり)\" data-toc-modified-id=\"1->>scipy.stats.ttest_rel(対応あり)-2.1\"><span class=\"toc-item-num\">2.1&nbsp;&nbsp;</span>1 &gt;&gt;scipy.stats.ttest_rel(対応あり)</a></span></li><li><span><a href=\"#2-&gt;&gt;scipy.stats.ttest_ind(対応なし)\" data-toc-modified-id=\"2->>scipy.stats.ttest_ind(対応なし)-2.2\"><span class=\"toc-item-num\">2.2&nbsp;&nbsp;</span>2 &gt;&gt;scipy.stats.ttest_ind(対応なし)</a></span></li></ul></li></ul></div>"
   ]
  },
  {
   "cell_type": "markdown",
   "metadata": {},
   "source": [
    "#  1. Chi-squared Test\n",
    "\n",
    "## 1 >>scipy.stats.chisquare"
   ]
  },
  {
   "cell_type": "code",
   "execution_count": 5,
   "metadata": {},
   "outputs": [
    {
     "data": {
      "text/plain": [
       "Power_divergenceResult(statistic=0.47002398081534769, pvalue=0.92542589510361595)"
      ]
     },
     "execution_count": 5,
     "metadata": {},
     "output_type": "execute_result"
    }
   ],
   "source": [
    "import pandas as pd\n",
    "import numpy as np\n",
    "from scipy import stats\n",
    "\n",
    "prob = pd.Series([9./16.,3./16.,3./16.,1./16.],name = \"理論確率\")\n",
    "numb  = pd.Series([315,101,108,32],name =\"観測度数\")\n",
    "sum1 = np.cumsum(numb)[3] #sum1 = 556\n",
    "theo = pd.Series(prob*sum1,name = \"理論度数\")\n",
    "scipy.stats.chisquare(numb,theo)\n",
    "#scipy.stats.chisquare(観測度数(array like),理論度数(array like),ddof=デフォルトの自由度からいくらひくか(int))\n",
    "#出力(カイ二乗値, p値)"
   ]
  },
  {
   "cell_type": "markdown",
   "metadata": {},
   "source": [
    "## 2 >>scipy.stats.chi2_contingency"
   ]
  },
  {
   "cell_type": "code",
   "execution_count": 7,
   "metadata": {},
   "outputs": [
    {
     "name": "stdout",
     "output_type": "stream",
     "text": [
      "テキストデータを取り込む場合\n"
     ]
    }
   ],
   "source": [
    "import pandas as pd\n",
    "from scipy import stats\n",
    "'''\n",
    "# タブ区切りのテキストデータを読み込む\n",
    "data = pd.read_csv(\"xxx.txt\", sep=\"\\t\")\n",
    "\n",
    "# クロス集計をする\n",
    "crossed = pd.crosstab(xxx.A, xxx.B)\n",
    "#=>\n",
    "#           A    B\n",
    "#label_1  435  165\n",
    "#label_2  265  135\n",
    "\n",
    "\n",
    "x2, p, dof, expected = scipy.stats.chi2_contingency(crossed)\n",
    "'''\n",
    "#出力(カイ二乗値(flort),p値(flort),自由度(int),期待度数(Dataframe))\n",
    "print(\"テキストデータを取り込む場合\")"
   ]
  },
  {
   "cell_type": "markdown",
   "metadata": {},
   "source": [
    "# 2- T-test\n",
    "\n",
    "## 1 >>scipy.stats.ttest_rel(対応あり)"
   ]
  },
  {
   "cell_type": "code",
   "execution_count": 9,
   "metadata": {},
   "outputs": [
    {
     "name": "stdout",
     "output_type": "stream",
     "text": [
      "[68, 75, 80, 71, 73, 79, 69, 65]\n",
      "[86, 83, 76, 81, 75, 82, 87, 75]\n",
      "t 値は -2.99232037543\n",
      "確率は 0.0201600161737\n",
      "有意な差があります\n"
     ]
    }
   ],
   "source": [
    "import numpy as np\n",
    "from scipy import stats\n",
    "\n",
    "X = [68, 75, 80, 71, 73, 79, 69, 65]\n",
    "Y = [86, 83, 76, 81, 75, 82, 87, 75]\n",
    "\n",
    "print(X)\n",
    "print(Y)\n",
    "\n",
    "t, p = scipy.stats.ttest_rel(X, Y)\n",
    "\n",
    "print( \"t 値は %(t)s\" %locals() )\n",
    "print( \"確率は %(p)s\" %locals() )\n",
    "\n",
    "if p < 0.05:\n",
    "    print(\"有意な差があります\")\n",
    "else:\n",
    "    print(\"有意な差がありません\")\n"
   ]
  },
  {
   "cell_type": "markdown",
   "metadata": {},
   "source": [
    "## 2 >>scipy.stats.ttest_ind(対応なし)"
   ]
  },
  {
   "cell_type": "code",
   "execution_count": 18,
   "metadata": {},
   "outputs": [
    {
     "name": "stdout",
     "output_type": "stream",
     "text": [
      "f値は　1.2108108108108109\n",
      "p値は　0.5963943871296282\n",
      "非等分散です\n",
      "t 値は -3.21404314682\n",
      "確率は 0.00630617816634\n",
      "有意な差があります\n"
     ]
    }
   ],
   "source": [
    "import numpy as np\n",
    "import scipy as sp\n",
    "from scipy import stats\n",
    "\n",
    "X = [68, 75, 80, 71, 73, 79, 69, 65]\n",
    "Y = [86, 83, 76, 81, 75, 82, 87, 75]\n",
    "\n",
    "#まずF検定で等分散か非等分散かを調べる\n",
    "\n",
    "#分子に大きい数値をとる\n",
    "f = np.var(X) / np.var(Y)\n",
    "#F値 1.2108108108108109\n",
    "dfx = len(X) - 1\n",
    "dfy = len(Y) - 1\n",
    "#dfx　自由度 7\n",
    "#dfy　自由度 7\n",
    "p_value = stats.f.cdf(f, dfx, dfy)\n",
    "#p値 = 0.596  (> 0.05)\n",
    "\n",
    "print('f値は　{0}\\np値は　{1}' .format(f,p_value))\n",
    "if p < 0.05:\n",
    "    print(\"非等分散です\")\n",
    "else:\n",
    "    print(\"非等分散ではありません\")\n",
    "\n",
    "\n",
    "#t検定\n",
    "t, p = scipy.stats.ttest_ind(X, Y,equal_var = False)#等分散なら、equal_var = True にする\n",
    "\n",
    "print( \"t 値は %(t)s\" %locals() )\n",
    "print( \"確率は %(p)s\" %locals() )\n",
    "\n",
    "if p < 0.05:\n",
    "    print(\"有意な差があります\")\n",
    "else:\n",
    "    print(\"有意な差がありません\")\n"
   ]
  },
  {
   "cell_type": "markdown",
   "metadata": {},
   "source": []
  },
  {
   "cell_type": "code",
   "execution_count": null,
   "metadata": {
    "collapsed": true
   },
   "outputs": [],
   "source": []
  }
 ],
 "metadata": {
  "kernelspec": {
   "display_name": "Python 3",
   "language": "python",
   "name": "python3"
  },
  "language_info": {
   "codemirror_mode": {
    "name": "ipython",
    "version": 3
   },
   "file_extension": ".py",
   "mimetype": "text/x-python",
   "name": "python",
   "nbconvert_exporter": "python",
   "pygments_lexer": "ipython3",
   "version": "3.6.2"
  },
  "toc": {
   "nav_menu": {},
   "number_sections": true,
   "sideBar": true,
   "skip_h1_title": false,
   "toc_cell": true,
   "toc_position": {},
   "toc_section_display": "block",
   "toc_window_display": false
  }
 },
 "nbformat": 4,
 "nbformat_minor": 2
}
