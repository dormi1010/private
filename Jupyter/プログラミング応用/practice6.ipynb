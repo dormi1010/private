{
 "cells": [
  {
   "cell_type": "markdown",
   "metadata": {},
   "source": [
    "14B12785 藤森　慶一郎"
   ]
  },
  {
   "cell_type": "code",
   "execution_count": 17,
   "metadata": {
    "collapsed": true
   },
   "outputs": [],
   "source": [
    "#問１\n",
    "import copy\n",
    "import pandas as pd\n",
    "def weight_dp(items,B):\n",
    "    n = len(items)\n",
    "    table = [[0]*(B+1) for i in range(n)]\n",
    "    itemtable =  [[[]]*(B+1) for i in range(n)]\n",
    "    for k in range(n):\n",
    "        (w,p,name)=items.iloc[k]\n",
    "        for b in range(B+1):\n",
    "            if k==0:\n",
    "                apple = ['apple']\n",
    "                if b>=w: \n",
    "                    table[k][b]=p\n",
    "                    itemtable[k][b] = copy.deepcopy(apple)\n",
    "            else:\n",
    "                if b>=w: \n",
    "                    table[k][b]=max(table[k-1][b],table[k-1][b-w]+p)\n",
    "                    if table[k-1][b] < table[k-1][b-w]+p:\n",
    "                        itemtable[k][b] = copy.deepcopy(itemtable[k-1][b-w])\n",
    "                        itemtable[k][b].append(name)\n",
    "                    else:\n",
    "                        itemtable[k][b] = copy.deepcopy(itemtable[k-1][b])\n",
    "                else:\n",
    "                    table[k][b] = table[k-1][b]\n",
    "                    itemtable[k][b] = copy.deepcopy(itemtable[k-1][b])                                 \n",
    "    return table[n-1][B],itemtable[n-1][B]"
   ]
  },
  {
   "cell_type": "code",
   "execution_count": 2,
   "metadata": {
    "collapsed": true
   },
   "outputs": [],
   "source": [
    "import urllib.request\n",
    "import pandas as pd\n",
    "url = 'http://yambi.jp/lecture/advanced_programming2018/vegetables.txt'\n",
    "urllib.request.urlretrieve(url, 'knapsack.txt')\n",
    "df = pd.read_table('knapsack.txt', sep = '\\s+',names = {'weight','price','name'})"
   ]
  },
  {
   "cell_type": "code",
   "execution_count": 18,
   "metadata": {},
   "outputs": [
    {
     "name": "stdout",
     "output_type": "stream",
     "text": [
      "Wall time: 35.9 ms\n"
     ]
    },
    {
     "data": {
      "text/plain": [
       "(4196, ['Cherry', 'Eggplant', 'Fennel', 'Lettuce', 'Vegetable'])"
      ]
     },
     "execution_count": 18,
     "metadata": {},
     "output_type": "execute_result"
    }
   ],
   "source": [
    "%time weight_dp(df,100)"
   ]
  },
  {
   "cell_type": "code",
   "execution_count": 19,
   "metadata": {},
   "outputs": [
    {
     "name": "stdout",
     "output_type": "stream",
     "text": [
      "Wall time: 495 ms\n"
     ]
    },
    {
     "data": {
      "text/plain": [
       "(19532,\n",
       " ['Avocado',\n",
       "  'Banana',\n",
       "  'Broccoli',\n",
       "  'Cabbage',\n",
       "  'Carrot',\n",
       "  'Cherry',\n",
       "  'Corn',\n",
       "  'Cucumber',\n",
       "  'Daikon',\n",
       "  'Eggplant',\n",
       "  'Fennel',\n",
       "  'Fig',\n",
       "  'Fruit',\n",
       "  'Garlic',\n",
       "  'Honeydew',\n",
       "  'Jackfruit',\n",
       "  'Jellybean',\n",
       "  'Lettuce',\n",
       "  'Papaya',\n",
       "  'Pear',\n",
       "  'Pepper',\n",
       "  'Soybean',\n",
       "  'Tomato',\n",
       "  'Vegetable',\n",
       "  'Watermelon',\n",
       "  'Zucchini'])"
      ]
     },
     "execution_count": 19,
     "metadata": {},
     "output_type": "execute_result"
    }
   ],
   "source": [
    "%time weight_dp(df,1000)"
   ]
  },
  {
   "cell_type": "code",
   "execution_count": 29,
   "metadata": {
    "collapsed": true
   },
   "outputs": [],
   "source": [
    "#問２\n",
    "def dijkstra(adj,s,g):\n",
    "    vs = adj.keys()\n",
    "    dist = {v:float('inf') for v in vs}\n",
    "    root = {v:[s] for v in vs}\n",
    "    dist[s] = 0 # s までの距離は0\n",
    "    fixed = set() # 最短距離が確定した点集合\n",
    "    while True:\n",
    "        min_dist = float('inf')\n",
    "        for v in vs:\n",
    "            if (v not in fixed) and min_dist>dist[v]:\n",
    "                min_dist=dist[v]\n",
    "                min_v = v\n",
    "        if min_dist==float('inf'): break\n",
    "        fixed.add(min_v)\n",
    "        for (u,d) in adj[min_v]:\n",
    "            if dist[u] > dist[min_v]+d:\n",
    "                root[u] = copy.deepcopy(root[min_v])\n",
    "                root[u].append(u) #ルート更新\n",
    "                dist[u] = dist[min_v]+d # 暫定距離を更新\n",
    "            \n",
    "    print(dist,root[g])"
   ]
  },
  {
   "cell_type": "code",
   "execution_count": 30,
   "metadata": {
    "collapsed": true
   },
   "outputs": [],
   "source": [
    "adj = {1:[(2,7),(3,2),(4,6)],\n",
    "2:[(4,8),(5,5)],\n",
    "3:[(4,4)],\n",
    "4:[(5,7)],\n",
    "5:[]}"
   ]
  },
  {
   "cell_type": "code",
   "execution_count": 33,
   "metadata": {},
   "outputs": [
    {
     "name": "stdout",
     "output_type": "stream",
     "text": [
      "{1: 0, 2: 7, 3: 2, 4: 6, 5: 12} [1, 2, 5]\n"
     ]
    }
   ],
   "source": [
    "dijkstra(adj,1,5)"
   ]
  },
  {
   "cell_type": "code",
   "execution_count": null,
   "metadata": {
    "collapsed": true
   },
   "outputs": [],
   "source": []
  },
  {
   "cell_type": "code",
   "execution_count": null,
   "metadata": {
    "collapsed": true
   },
   "outputs": [],
   "source": []
  }
 ],
 "metadata": {
  "kernelspec": {
   "display_name": "Python 3",
   "language": "python",
   "name": "python3"
  },
  "language_info": {
   "codemirror_mode": {
    "name": "ipython",
    "version": 3
   },
   "file_extension": ".py",
   "mimetype": "text/x-python",
   "name": "python",
   "nbconvert_exporter": "python",
   "pygments_lexer": "ipython3",
   "version": "3.6.3"
  },
  "toc": {
   "base_numbering": 1,
   "nav_menu": {},
   "number_sections": true,
   "sideBar": true,
   "skip_h1_title": false,
   "title_cell": "Table of Contents",
   "title_sidebar": "Contents",
   "toc_cell": false,
   "toc_position": {},
   "toc_section_display": true,
   "toc_window_display": false
  }
 },
 "nbformat": 4,
 "nbformat_minor": 2
}
