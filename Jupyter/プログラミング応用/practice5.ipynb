{
 "cells": [
  {
   "cell_type": "markdown",
   "metadata": {},
   "source": [
    "14B12785 藤森　慶一郎"
   ]
  },
  {
   "cell_type": "code",
   "execution_count": 12,
   "metadata": {
    "collapsed": true
   },
   "outputs": [],
   "source": [
    "#問１\n",
    "#ヒープソート"
   ]
  },
  {
   "cell_type": "markdown",
   "metadata": {},
   "source": [
    "配列をヒープ構造にし、データの先頭を取り出す操作を繰り返す手法。\n",
    "一般的に時間計算量はO(nlogn)だが、ヒープ構造が偏ると最悪O(n^2)になってしまう。"
   ]
  },
  {
   "cell_type": "code",
   "execution_count": 38,
   "metadata": {
    "collapsed": true
   },
   "outputs": [],
   "source": [
    "import random"
   ]
  },
  {
   "cell_type": "code",
   "execution_count": 14,
   "metadata": {
    "collapsed": true
   },
   "outputs": [],
   "source": [
    "def heap_sort(l):\n",
    "    i = 0\n",
    "    n = len(l)\n",
    "\n",
    "    while(i < n):\n",
    "        upheap(l, i)\n",
    "        i += 1\n",
    "\n",
    "    while(i > 1):\n",
    "        i -= 1\n",
    "        tmp = l[0]\n",
    "        l[0] = l[i]\n",
    "        l[i] = tmp\n",
    "\n",
    "        downheap(l, i-1)\n",
    "\n",
    "\n",
    "def upheap(l, n):\n",
    "    while n != 0:\n",
    "        root = int((n - 1) / 2)\n",
    "        if l[n] > l[root]:\n",
    "            tmp = l[n]\n",
    "            l[n] = l[root]\n",
    "            l[root] = tmp\n",
    "            n = root\n",
    "        else:\n",
    "            break\n",
    "\n",
    "def downheap(l, n):\n",
    "    if n == 0: return\n",
    "    root = 0\n",
    "    while True:\n",
    "        child = 2 * root + 1\n",
    "        if child > n: break\n",
    "        if (child < n) and l[child] < l[child + 1]:\n",
    "            child += 1\n",
    "        if l[root] < l[child]: \n",
    "            tmp = l[child]\n",
    "            l[child] = l[root]\n",
    "            l[root] = tmp\n",
    "            root = child; \n",
    "        else:\n",
    "            break"
   ]
  },
  {
   "cell_type": "code",
   "execution_count": 15,
   "metadata": {
    "collapsed": true
   },
   "outputs": [],
   "source": [
    "def bubble_sort(l):\n",
    "    for i in range(len(l)):\n",
    "        for j in range(len(l)-i-1):\n",
    "            if l[j]>l[j+1]:\n",
    "                l[j],l[j+1]=l[j+1],l[j]\n"
   ]
  },
  {
   "cell_type": "code",
   "execution_count": 16,
   "metadata": {
    "collapsed": true
   },
   "outputs": [],
   "source": [
    "def merge_sort(l):\n",
    "    _merge_sort(l,0,len(l))\n",
    "    \n",
    "def _merge_sort(l,s,t):\n",
    "    if t-s<=1: return\n",
    "    m=(s+t)//2\n",
    "    _merge_sort(l,s,m) \n",
    "    _merge_sort(l,m,t) \n",
    "    a,j,k = [],s,m\n",
    "    for i in range(s,t):\n",
    "        if k==t or (j<m and l[j]<l[k]):\n",
    "            a.append(l[j])\n",
    "            j+=1\n",
    "        else:\n",
    "            a.append(l[k])\n",
    "            k+=1\n",
    "    l[s:t]=a"
   ]
  },
  {
   "cell_type": "code",
   "execution_count": 17,
   "metadata": {
    "collapsed": true
   },
   "outputs": [],
   "source": [
    "def quick_sort(l):\n",
    "    if len(l)<=1:return\n",
    "    pivot = random.choice(l)\n",
    "    le = [i for i in l if i<pivot]\n",
    "    eq = [i for i in l if i==pivot]\n",
    "    gr = [i for i in l if i>pivot]\n",
    "    quick_sort(le)\n",
    "    quick_sort(gr)\n",
    "    l[:]=(le+eq+gr)"
   ]
  },
  {
   "cell_type": "code",
   "execution_count": 49,
   "metadata": {
    "collapsed": true
   },
   "outputs": [],
   "source": [
    "def cktime():\n",
    "    arr = range(10000)\n",
    "    b = random.sample(arr,10000)\n",
    "    %time bubble_sort(b)\n",
    "    m = random.sample(arr,10000)\n",
    "    %time merge_sort(m)\n",
    "    q = random.sample(arr,10000)\n",
    "    %time quick_sort(q)\n",
    "    h = random.sample(arr,10000)\n",
    "    %time heap_sort(h)\n",
    "    return"
   ]
  },
  {
   "cell_type": "code",
   "execution_count": 50,
   "metadata": {},
   "outputs": [
    {
     "name": "stdout",
     "output_type": "stream",
     "text": [
      "Wall time: 6.89 s\n",
      "Wall time: 31.2 ms\n",
      "Wall time: 22.7 ms\n",
      "Wall time: 31.2 ms\n"
     ]
    }
   ],
   "source": [
    "cktime()"
   ]
  },
  {
   "cell_type": "code",
   "execution_count": 76,
   "metadata": {
    "collapsed": true
   },
   "outputs": [],
   "source": []
  },
  {
   "cell_type": "code",
   "execution_count": 77,
   "metadata": {},
   "outputs": [],
   "source": [
    "def backtrack(n):\n",
    "    _backtrack([],n)\n",
    "    \n",
    "def _backtrack(a,n):\n",
    "    if len(a)==n: \n",
    "        global ans\n",
    "        ans += 1\n",
    "        return\n",
    "    for s in range(n):\n",
    "        if s in a: continue\n",
    "        if any([len(a)-i==abs(a[i]-s) for i in range(len(a))]): continue\n",
    "        a.append(s)\n",
    "        _backtrack(a,n)\n",
    "        a.pop()"
   ]
  },
  {
   "cell_type": "code",
   "execution_count": 78,
   "metadata": {},
   "outputs": [
    {
     "name": "stdout",
     "output_type": "stream",
     "text": [
      "92\n"
     ]
    }
   ],
   "source": [
    "ans  = 0\n",
    "backtrack(8)\n",
    "print(ans)"
   ]
  },
  {
   "cell_type": "code",
   "execution_count": 79,
   "metadata": {},
   "outputs": [
    {
     "name": "stdout",
     "output_type": "stream",
     "text": [
      "352\n"
     ]
    }
   ],
   "source": [
    "ans  = 0\n",
    "backtrack(9)\n",
    "print(ans)"
   ]
  },
  {
   "cell_type": "code",
   "execution_count": 80,
   "metadata": {},
   "outputs": [
    {
     "name": "stdout",
     "output_type": "stream",
     "text": [
      "724\n"
     ]
    }
   ],
   "source": [
    "ans  = 0\n",
    "backtrack(10)\n",
    "print(ans)"
   ]
  },
  {
   "cell_type": "code",
   "execution_count": 81,
   "metadata": {},
   "outputs": [
    {
     "name": "stdout",
     "output_type": "stream",
     "text": [
      "2680\n"
     ]
    }
   ],
   "source": [
    "ans  = 0\n",
    "backtrack(11)\n",
    "print(ans)"
   ]
  },
  {
   "cell_type": "code",
   "execution_count": 82,
   "metadata": {},
   "outputs": [
    {
     "name": "stdout",
     "output_type": "stream",
     "text": [
      "14200\n"
     ]
    }
   ],
   "source": [
    "ans  = 0\n",
    "backtrack(12)\n",
    "print(ans)"
   ]
  },
  {
   "cell_type": "code",
   "execution_count": 100,
   "metadata": {},
   "outputs": [
    {
     "ename": "UnboundLocalError",
     "evalue": "local variable 'nx' referenced before assignment",
     "output_type": "error",
     "traceback": [
      "\u001b[1;31m---------------------------------------------------------------------------\u001b[0m",
      "\u001b[1;31mUnboundLocalError\u001b[0m                         Traceback (most recent call last)",
      "\u001b[1;32m<ipython-input-100-0de8810655c7>\u001b[0m in \u001b[0;36m<module>\u001b[1;34m()\u001b[0m\n\u001b[0;32m     77\u001b[0m         \u001b[0mprint\u001b[0m \u001b[1;33m(\u001b[0m\u001b[1;34m\"\"\u001b[0m\u001b[1;33m)\u001b[0m\u001b[1;33m\u001b[0m\u001b[0m\n\u001b[0;32m     78\u001b[0m \u001b[1;33m\u001b[0m\u001b[0m\n\u001b[1;32m---> 79\u001b[1;33m \u001b[0mmain\u001b[0m\u001b[1;33m(\u001b[0m\u001b[1;33m)\u001b[0m\u001b[1;33m\u001b[0m\u001b[0m\n\u001b[0m",
      "\u001b[1;32m<ipython-input-100-0de8810655c7>\u001b[0m in \u001b[0;36mmain\u001b[1;34m()\u001b[0m\n\u001b[0;32m     14\u001b[0m \u001b[1;33m\u001b[0m\u001b[0m\n\u001b[0;32m     15\u001b[0m \u001b[1;32mdef\u001b[0m \u001b[0mmain\u001b[0m\u001b[1;33m(\u001b[0m\u001b[1;33m)\u001b[0m\u001b[1;33m:\u001b[0m\u001b[1;33m\u001b[0m\u001b[0m\n\u001b[1;32m---> 16\u001b[1;33m     \u001b[1;32mif\u001b[0m \u001b[0msolve\u001b[0m\u001b[1;33m(\u001b[0m\u001b[1;36m0\u001b[0m\u001b[1;33m,\u001b[0m \u001b[1;36m0\u001b[0m\u001b[1;33m,\u001b[0m \u001b[0mstage_base\u001b[0m\u001b[1;33m)\u001b[0m\u001b[1;33m:\u001b[0m\u001b[1;33m\u001b[0m\u001b[0m\n\u001b[0m\u001b[0;32m     17\u001b[0m         \u001b[0mprintStage\u001b[0m\u001b[1;33m(\u001b[0m\u001b[0mstage_base\u001b[0m\u001b[1;33m)\u001b[0m\u001b[1;33m\u001b[0m\u001b[0m\n\u001b[0;32m     18\u001b[0m     \u001b[1;32melse\u001b[0m\u001b[1;33m:\u001b[0m\u001b[1;33m\u001b[0m\u001b[0m\n",
      "\u001b[1;32m<ipython-input-100-0de8810655c7>\u001b[0m in \u001b[0;36msolve\u001b[1;34m(x, y, stage)\u001b[0m\n\u001b[0;32m     28\u001b[0m             \u001b[1;32mif\u001b[0m \u001b[0misValid\u001b[0m\u001b[1;33m(\u001b[0m\u001b[0mx\u001b[0m\u001b[1;33m,\u001b[0m \u001b[0my\u001b[0m\u001b[1;33m,\u001b[0m \u001b[0mstage\u001b[0m\u001b[1;33m)\u001b[0m\u001b[1;33m:\u001b[0m\u001b[1;33m\u001b[0m\u001b[0m\n\u001b[0;32m     29\u001b[0m                 \u001b[1;33m(\u001b[0m\u001b[0mnx\u001b[0m\u001b[1;33m,\u001b[0m \u001b[0mny\u001b[0m\u001b[1;33m)\u001b[0m \u001b[1;33m=\u001b[0m \u001b[0mnext\u001b[0m\u001b[1;33m(\u001b[0m\u001b[0mx\u001b[0m\u001b[1;33m,\u001b[0m \u001b[0my\u001b[0m\u001b[1;33m)\u001b[0m\u001b[1;33m\u001b[0m\u001b[0m\n\u001b[1;32m---> 30\u001b[1;33m             \u001b[1;32mif\u001b[0m \u001b[0msolve\u001b[0m\u001b[1;33m(\u001b[0m\u001b[0mnx\u001b[0m\u001b[1;33m,\u001b[0m \u001b[0mny\u001b[0m\u001b[1;33m,\u001b[0m \u001b[0mstage\u001b[0m\u001b[1;33m)\u001b[0m\u001b[1;33m:\u001b[0m\u001b[1;33m\u001b[0m\u001b[0m\n\u001b[0m\u001b[0;32m     31\u001b[0m                 \u001b[1;32mreturn\u001b[0m \u001b[1;32mTrue\u001b[0m\u001b[1;33m\u001b[0m\u001b[0m\n\u001b[0;32m     32\u001b[0m         \u001b[0mstage\u001b[0m\u001b[1;33m[\u001b[0m\u001b[0my\u001b[0m\u001b[1;33m]\u001b[0m\u001b[1;33m[\u001b[0m\u001b[0mx\u001b[0m\u001b[1;33m]\u001b[0m \u001b[1;33m=\u001b[0m \u001b[1;36m0\u001b[0m\u001b[1;33m\u001b[0m\u001b[0m\n",
      "\u001b[1;32m<ipython-input-100-0de8810655c7>\u001b[0m in \u001b[0;36msolve\u001b[1;34m(x, y, stage)\u001b[0m\n\u001b[0;32m     28\u001b[0m             \u001b[1;32mif\u001b[0m \u001b[0misValid\u001b[0m\u001b[1;33m(\u001b[0m\u001b[0mx\u001b[0m\u001b[1;33m,\u001b[0m \u001b[0my\u001b[0m\u001b[1;33m,\u001b[0m \u001b[0mstage\u001b[0m\u001b[1;33m)\u001b[0m\u001b[1;33m:\u001b[0m\u001b[1;33m\u001b[0m\u001b[0m\n\u001b[0;32m     29\u001b[0m                 \u001b[1;33m(\u001b[0m\u001b[0mnx\u001b[0m\u001b[1;33m,\u001b[0m \u001b[0mny\u001b[0m\u001b[1;33m)\u001b[0m \u001b[1;33m=\u001b[0m \u001b[0mnext\u001b[0m\u001b[1;33m(\u001b[0m\u001b[0mx\u001b[0m\u001b[1;33m,\u001b[0m \u001b[0my\u001b[0m\u001b[1;33m)\u001b[0m\u001b[1;33m\u001b[0m\u001b[0m\n\u001b[1;32m---> 30\u001b[1;33m             \u001b[1;32mif\u001b[0m \u001b[0msolve\u001b[0m\u001b[1;33m(\u001b[0m\u001b[0mnx\u001b[0m\u001b[1;33m,\u001b[0m \u001b[0mny\u001b[0m\u001b[1;33m,\u001b[0m \u001b[0mstage\u001b[0m\u001b[1;33m)\u001b[0m\u001b[1;33m:\u001b[0m\u001b[1;33m\u001b[0m\u001b[0m\n\u001b[0m\u001b[0;32m     31\u001b[0m                 \u001b[1;32mreturn\u001b[0m \u001b[1;32mTrue\u001b[0m\u001b[1;33m\u001b[0m\u001b[0m\n\u001b[0;32m     32\u001b[0m         \u001b[0mstage\u001b[0m\u001b[1;33m[\u001b[0m\u001b[0my\u001b[0m\u001b[1;33m]\u001b[0m\u001b[1;33m[\u001b[0m\u001b[0mx\u001b[0m\u001b[1;33m]\u001b[0m \u001b[1;33m=\u001b[0m \u001b[1;36m0\u001b[0m\u001b[1;33m\u001b[0m\u001b[0m\n",
      "\u001b[1;31mUnboundLocalError\u001b[0m: local variable 'nx' referenced before assignment"
     ]
    }
   ],
   "source": [
    "stage_base = [\n",
    "  [0, 0, 5,  3, 0, 0,  0, 0, 0],\n",
    "  [8, 0, 0,  0, 0, 0,  0, 2, 0],\n",
    "  [0, 7, 0,  0, 1, 0,  5, 0, 0],\n",
    "   \n",
    "  [4, 0, 0,  0, 0, 5,  3, 0, 0],\n",
    "  [0, 1, 0,  0, 7, 0,  0, 0, 6],\n",
    "  [0, 0, 3,  2, 0, 0,  0, 8, 0],\n",
    "   \n",
    "  [0, 6, 0,  5, 0, 0,  0, 0, 9],\n",
    "  [0, 0, 4,  0, 0, 0,  0, 3, 0],\n",
    "  [0, 0, 0,  0, 0, 9,  7, 0, 0],\n",
    "]\n",
    " \n",
    "def main():\n",
    "    if solve(0, 0, stage_base):\n",
    "        printStage(stage_base)\n",
    "    else:\n",
    "        print ('error')\n",
    " \n",
    "def solve(x, y, stage):\n",
    "    if x == 0 and y == 9:\n",
    "        return True\n",
    "   \n",
    "    if stage[y][x] == 0:\n",
    "        for t in range(1, 10):\n",
    "            stage[y][x] = t\n",
    "            if isValid(x, y, stage):\n",
    "                (nx, ny) = next(x, y)\n",
    "            if solve(nx, ny, stage):\n",
    "                return True\n",
    "        stage[y][x] = 0\n",
    "        return False\n",
    "    else:\n",
    "        (nx, ny) = next(x, y)\n",
    "        if solve(nx, ny, stage):\n",
    "            return True\n",
    "        \n",
    "def next(x, y):\n",
    "    x += 1\n",
    "    if x > 8:\n",
    "        x = 0\n",
    "        y += 1\n",
    "    return (x, y)\n",
    " \n",
    "def isValid(x, y, stage):\n",
    "    return isValidYoko(x, y, stage) and isValidTate(x, y, stage) and isValid3x3(x, y, stage)\n",
    " \n",
    "def isValidTate(x, y, stage):\n",
    "    for yt in range(9):\n",
    "        if yt != y:\n",
    "            if stage[y][x] == stage[yt][x]:\n",
    "                return False\n",
    "    return True\n",
    " \n",
    "def isValidYoko(x, y, stage):\n",
    "    for xt in range(9):\n",
    "        if xt != x:\n",
    "            if stage[y][x] == stage[y][xt]:\n",
    "                return False\n",
    "    return True\n",
    " \n",
    "def isValid3x3(x, y, stage):\n",
    "    xbase = (x // 3) * 3\n",
    "    ybase = (y // 3) * 3\n",
    "    for yt in range(ybase, ybase + 3):\n",
    "        for xt in range(xbase, xbase + 3):\n",
    "            if xt != x and yt != y:\n",
    "                if stage[y][x] == stage[yt][xt]:\n",
    "                    return False\n",
    "    return True\n",
    " \n",
    "def printStage(stage):\n",
    "    for y in range(9):\n",
    "        for x in range(9):\n",
    "            print (stage[y][x])\n",
    "        print (\"\")\n",
    " \n",
    "main()"
   ]
  },
  {
   "cell_type": "code",
   "execution_count": 101,
   "metadata": {
    "collapsed": true
   },
   "outputs": [],
   "source": [
    "def check(table,i,j,k): \n",
    "    for l in range(9):\n",
    "        if table[i][l]==k: return False\n",
    "        if table[l][j]==k: return False\n",
    "        if table[l//3+(i//3)*3][l%3+(j//3)*3]==k: return False\n",
    "    return True\n",
    "\n",
    "def _solve(table,p):\n",
    "    if p==81:\n",
    "        show(table)\n",
    "        return\n",
    "    (i,j) = divmod(p,9)\n",
    "    if table[i][j]: \n",
    "        _solve(table,p+1)\n",
    "    else:\n",
    "        for k in range(1,10)\n",
    "            if check(table,i,j,k):\n",
    "                table[i][j]=k\n",
    "                _solve(table,p+1)\n",
    "                table[i][j]=0\n",
    "                \n",
    "def solve(table): _solve(table,0)"
   ]
  },
  {
   "cell_type": "code",
   "execution_count": 104,
   "metadata": {},
   "outputs": [
    {
     "name": "stdout",
     "output_type": "stream",
     "text": [
      "005300000\n",
      "800000020\n",
      "070010500\n",
      "400005300\n",
      "010070006\n",
      "003200080\n",
      "060500009\n",
      "004000030\n",
      "000009700\n",
      "\n",
      "145327698\n",
      "839654127\n",
      "672918543\n",
      "496185372\n",
      "218473956\n",
      "753296481\n",
      "367542819\n",
      "984761235\n",
      "521839764\n",
      "\n"
     ]
    }
   ],
   "source": [
    "def show(table):\n",
    "    for l in table:\n",
    "        print(''.join(map(str,l)))\n",
    "    print()\n",
    "    \n",
    "prob = [\n",
    "  [0, 0, 5,  3, 0, 0,  0, 0, 0],\n",
    "  [8, 0, 0,  0, 0, 0,  0, 2, 0],\n",
    "  [0, 7, 0,  0, 1, 0,  5, 0, 0],\n",
    "   \n",
    "  [4, 0, 0,  0, 0, 5,  3, 0, 0],\n",
    "  [0, 1, 0,  0, 7, 0,  0, 0, 6],\n",
    "  [0, 0, 3,  2, 0, 0,  0, 8, 0],\n",
    "   \n",
    "  [0, 6, 0,  5, 0, 0,  0, 0, 9],\n",
    "  [0, 0, 4,  0, 0, 0,  0, 3, 0],\n",
    "  [0, 0, 0,  0, 0, 9,  7, 0, 0],\n",
    "]\n",
    "\n",
    "show(prob)\n",
    "solve(prob)"
   ]
  },
  {
   "cell_type": "code",
   "execution_count": null,
   "metadata": {
    "collapsed": true
   },
   "outputs": [],
   "source": []
  }
 ],
 "metadata": {
  "kernelspec": {
   "display_name": "Python 3",
   "language": "python",
   "name": "python3"
  },
  "language_info": {
   "codemirror_mode": {
    "name": "ipython",
    "version": 3
   },
   "file_extension": ".py",
   "mimetype": "text/x-python",
   "name": "python",
   "nbconvert_exporter": "python",
   "pygments_lexer": "ipython3",
   "version": "3.6.3"
  },
  "toc": {
   "base_numbering": 1,
   "nav_menu": {},
   "number_sections": true,
   "sideBar": true,
   "skip_h1_title": false,
   "title_cell": "Table of Contents",
   "title_sidebar": "Contents",
   "toc_cell": false,
   "toc_position": {},
   "toc_section_display": true,
   "toc_window_display": false
  }
 },
 "nbformat": 4,
 "nbformat_minor": 2
}
