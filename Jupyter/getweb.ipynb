{
 "cells": [
  {
   "cell_type": "code",
   "execution_count": 5,
   "metadata": {},
   "outputs": [],
   "source": [
    "import requests"
   ]
  },
  {
   "cell_type": "code",
   "execution_count": 14,
   "metadata": {},
   "outputs": [
    {
     "output_type": "stream",
     "name": "stdout",
     "text": "<Response [200]>\n{'Date': 'Thu, 21 May 2020 16:03:14 GMT', 'Content-Type': 'application/json', 'Content-Length': '62', 'Connection': 'keep-alive', 'x-amzn-RequestId': '53f5cc6f-4980-47a7-bade-b857578df52c', 'Content-Encoding': 'gzip', 'x-amzn-ErrorType': 'MissingAuthenticationTokenException', 'x-amz-apigw-id': 'M47qYENAtjMFXXg='}\n{\"message\":\"Missing Authentication Token\"}\n"
    }
   ],
   "source": [
    "get_url_info = requests.get('https://kenkoooo.com/atcoder/#/user/dormi1010')\n",
    "print(get_url_info)\n",
    "if (get_url_info.status_code != 200) :\n",
    "    print('connection error!!')\n",
    "else:\n",
    "    post_url_info = requests.post('https://kenkoooo.com/atcoder/#/user/dormi1010.html')\n",
    "    print(post_url_info.headers)\n",
    "    print(post_url_info.text)"
   ]
  },
  {
   "cell_type": "code",
   "execution_count": null,
   "metadata": {},
   "outputs": [],
   "source": []
  }
 ],
 "metadata": {
  "language_info": {
   "codemirror_mode": {
    "name": "ipython",
    "version": 3
   },
   "file_extension": ".py",
   "mimetype": "text/x-python",
   "name": "python",
   "nbconvert_exporter": "python",
   "pygments_lexer": "ipython3",
   "version": "3.6.10-final"
  },
  "orig_nbformat": 2,
  "kernelspec": {
   "name": "python3",
   "display_name": "Python 3"
  }
 },
 "nbformat": 4,
 "nbformat_minor": 2
}