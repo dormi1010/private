{
 "cells": [
  {
   "cell_type": "code",
   "execution_count": 6,
   "metadata": {
    "collapsed": true
   },
   "outputs": [],
   "source": [
    "import math\n",
    "wakuwaku = [70, 75, 70, 85, 90, 70, 80, 75]\n",
    "mogumogu = [85, 80, 95, 70, 80, 75, 80, 90] "
   ]
  },
  {
   "cell_type": "code",
   "execution_count": 2,
   "metadata": {
    "collapsed": true
   },
   "outputs": [],
   "source": [
    "def average(list):\n",
    "    sum = 0\n",
    "    for length in list:\n",
    "       sum += length\n",
    "    return (sum / len(list))"
   ]
  },
  {
   "cell_type": "code",
   "execution_count": 3,
   "metadata": {
    "collapsed": true
   },
   "outputs": [],
   "source": [
    "def variance(list):\n",
    "    v = 0\n",
    "    a = average(list)\n",
    "    for x in list:\n",
    "            v += (x - a) ** 2\n",
    "    return (v / len(list))"
   ]
  },
  {
   "cell_type": "code",
   "execution_count": 4,
   "metadata": {
    "collapsed": true
   },
   "outputs": [],
   "source": [
    "def varsum(list):\n",
    "    v = variance(list)\n",
    "    return (v * len(list))"
   ]
  },
  {
   "cell_type": "code",
   "execution_count": 5,
   "metadata": {
    "collapsed": true
   },
   "outputs": [],
   "source": [
    "def pvar_est(list1,list2):\n",
    "    p = varsum(list1) + varsum(list2)\n",
    "    l1 = len(list1) - 1\n",
    "    l2 = len(list2) - 1\n",
    "    return (p / (l1 + l2))"
   ]
  },
  {
   "cell_type": "code",
   "execution_count": 8,
   "metadata": {
    "collapsed": true
   },
   "outputs": [],
   "source": [
    "def se(list1, list2):\n",
    "    p = pvar_est(list1, list2)\n",
    "    return (math.sqrt(p * ((1 / len(list1)) + (1 / len(list2)))))"
   ]
  },
  {
   "cell_type": "code",
   "execution_count": null,
   "metadata": {
    "collapsed": true
   },
   "outputs": [],
   "source": [
    "#課題4.3"
   ]
  },
  {
   "cell_type": "code",
   "execution_count": 10,
   "metadata": {},
   "outputs": [
    {
     "data": {
      "text/plain": [
       "76.875"
      ]
     },
     "execution_count": 10,
     "metadata": {},
     "output_type": "execute_result"
    }
   ],
   "source": [
    "# ワクワクバーガー、モグモグバーガーの評価点の平均値（標本平均）\n",
    "average(wakuwaku)"
   ]
  },
  {
   "cell_type": "code",
   "execution_count": 11,
   "metadata": {},
   "outputs": [
    {
     "data": {
      "text/plain": [
       "81.875"
      ]
     },
     "execution_count": 11,
     "metadata": {},
     "output_type": "execute_result"
    }
   ],
   "source": [
    "average(mogumogu)"
   ]
  },
  {
   "cell_type": "code",
   "execution_count": 12,
   "metadata": {},
   "outputs": [
    {
     "data": {
      "text/plain": [
       "49.609375"
      ]
     },
     "execution_count": 12,
     "metadata": {},
     "output_type": "execute_result"
    }
   ],
   "source": [
    "# ワクワクバーガー、モグモグバーガーの評価点の分散値（標本分散）\n",
    "variance(wakuwaku)"
   ]
  },
  {
   "cell_type": "code",
   "execution_count": 13,
   "metadata": {},
   "outputs": [
    {
     "data": {
      "text/plain": [
       "55.859375"
      ]
     },
     "execution_count": 13,
     "metadata": {},
     "output_type": "execute_result"
    }
   ],
   "source": [
    "variance(mogumogu)"
   ]
  },
  {
   "cell_type": "code",
   "execution_count": 14,
   "metadata": {},
   "outputs": [
    {
     "data": {
      "text/plain": [
       "396.875"
      ]
     },
     "execution_count": 14,
     "metadata": {},
     "output_type": "execute_result"
    }
   ],
   "source": [
    "# ワクワクバーガー、モグモグバーガーの評価点の平均偏差の平方和\n",
    "varsum(wakuwaku)"
   ]
  },
  {
   "cell_type": "code",
   "execution_count": 15,
   "metadata": {},
   "outputs": [
    {
     "data": {
      "text/plain": [
       "446.875"
      ]
     },
     "execution_count": 15,
     "metadata": {},
     "output_type": "execute_result"
    }
   ],
   "source": [
    "varsum(mogumogu)"
   ]
  },
  {
   "cell_type": "code",
   "execution_count": 16,
   "metadata": {},
   "outputs": [
    {
     "data": {
      "text/plain": [
       "60.267857142857146"
      ]
     },
     "execution_count": 16,
     "metadata": {},
     "output_type": "execute_result"
    }
   ],
   "source": [
    "# 推定母分散\n",
    "pvar_est(wakuwaku, mogumogu)"
   ]
  },
  {
   "cell_type": "code",
   "execution_count": 17,
   "metadata": {},
   "outputs": [
    {
     "data": {
      "text/plain": [
       "3.8816187713007424"
      ]
     },
     "execution_count": 17,
     "metadata": {},
     "output_type": "execute_result"
    }
   ],
   "source": [
    "# 差の標準誤差\n",
    "se(wakuwaku, mogumogu)"
   ]
  },
  {
   "cell_type": "code",
   "execution_count": 31,
   "metadata": {},
   "outputs": [
    {
     "name": "stdout",
     "output_type": "stream",
     "text": [
      "-1.29\n"
     ]
    }
   ],
   "source": [
    "# t 値\n",
    "t = average(wakuwaku) - average(mogumogu)\n",
    "s = se(wakuwaku, mogumogu)\n",
    "print(round((t/s),2))"
   ]
  },
  {
   "cell_type": "code",
   "execution_count": 35,
   "metadata": {},
   "outputs": [
    {
     "data": {
      "text/plain": [
       "14"
      ]
     },
     "execution_count": 35,
     "metadata": {},
     "output_type": "execute_result"
    }
   ],
   "source": [
    "# 自由度\n",
    "(len(wakuwaku) - 1) +(len(mogumogu) - 1)"
   ]
  },
  {
   "cell_type": "code",
   "execution_count": 36,
   "metadata": {},
   "outputs": [
    {
     "data": {
      "text/plain": [
       "'自由度14における有意水準5%のt値は2.145であり、1%のt値は2.977である。\\n今回、有意水準を5%にしたとすると、95%の確率でt値は±2.125の範囲にあるといえる。\\n今回計算したt値は-1.29であり、この範囲に収まっているので、ワクワクとモグモグの評価の平均には有意な差がないといえる。\\n'"
      ]
     },
     "execution_count": 36,
     "metadata": {},
     "output_type": "execute_result"
    }
   ],
   "source": [
    "# t検定の結果を説明 \n",
    "\"\"\"自由度14における有意水準5%のt値は2.145であり、1%のt値は2.977である。\n",
    "今回、有意水準を5%にしたとすると、95%の確率でt値は±2.125の範囲にあるといえる。\n",
    "今回計算したt値は-1.29であり、この範囲に収まっているので、ワクワクとモグモグの評価の平均には有意な差がないといえる。\n",
    "\"\"\""
   ]
  },
  {
   "cell_type": "code",
   "execution_count": null,
   "metadata": {
    "collapsed": true
   },
   "outputs": [],
   "source": [
    "#課題4.4"
   ]
  },
  {
   "cell_type": "code",
   "execution_count": 37,
   "metadata": {
    "collapsed": true
   },
   "outputs": [],
   "source": [
    "wakuwaku2 = [80, 75, 80, 95, 90, 80, 85, 90]\n",
    "mogumogu2 = [75, 65, 80, 85, 75, 80, 80, 70]"
   ]
  },
  {
   "cell_type": "code",
   "execution_count": 39,
   "metadata": {},
   "outputs": [
    {
     "data": {
      "text/plain": [
       "'ワクワクポテトとモグモグポテトの評価に有意な差はないとする。\\nこの仮説が棄却された場合、ワクワクポテトとモグモグポテトの評価に有意な差があるといえる。\\n有意水準は5%に設定する。\\n'"
      ]
     },
     "execution_count": 39,
     "metadata": {},
     "output_type": "execute_result"
    }
   ],
   "source": [
    "\"\"\"ワクワクポテトとモグモグポテトの評価に有意な差はないとする。\n",
    "この仮説が棄却された場合、ワクワクポテトとモグモグポテトの評価に有意な差があるといえる。\n",
    "有意水準は5%に設定する。\n",
    "\"\"\""
   ]
  },
  {
   "cell_type": "code",
   "execution_count": 41,
   "metadata": {},
   "outputs": [
    {
     "name": "stdout",
     "output_type": "stream",
     "text": [
      "2.46\n"
     ]
    }
   ],
   "source": [
    "# t 値\n",
    "t = average(wakuwaku2) - average(mogumogu2)\n",
    "s = se(wakuwaku2, mogumogu2)\n",
    "print(round((t/s),2))"
   ]
  },
  {
   "cell_type": "code",
   "execution_count": 42,
   "metadata": {},
   "outputs": [
    {
     "data": {
      "text/plain": [
       "14"
      ]
     },
     "execution_count": 42,
     "metadata": {},
     "output_type": "execute_result"
    }
   ],
   "source": [
    "# 自由度\n",
    "(len(wakuwaku2) - 1) +(len(mogumogu2) - 1)"
   ]
  },
  {
   "cell_type": "code",
   "execution_count": 43,
   "metadata": {},
   "outputs": [
    {
     "data": {
      "text/plain": [
       "'自由度14における有意水準5%のt値は2.145であり、今回得られたt値はそれを上回る。\\nよって、帰無仮説は棄却され、ワクワクポテトとモグモグポテトの評価に有意な差があるといえる。\\n'"
      ]
     },
     "execution_count": 43,
     "metadata": {},
     "output_type": "execute_result"
    }
   ],
   "source": [
    "# t検定の結果を説明 \n",
    "\"\"\"自由度14における有意水準5%のt値は2.145であり、今回得られたt値はそれを上回る。\n",
    "よって、帰無仮説は棄却され、ワクワクポテトとモグモグポテトの評価に有意な差があるといえる。\n",
    "\"\"\""
   ]
  },
  {
   "cell_type": "code",
   "execution_count": 44,
   "metadata": {
    "collapsed": true
   },
   "outputs": [],
   "source": [
    "#課題5.3"
   ]
  },
  {
   "cell_type": "code",
   "execution_count": 45,
   "metadata": {
    "collapsed": true
   },
   "outputs": [],
   "source": [
    "wakuwaku3 =  [90, 75, 75, 75, 80, 65, 75, 80]\n",
    "mogumogu3 = [95, 80, 80, 80, 75, 75, 80, 85]\n",
    "# 点数の差\n",
    "sa = []\n",
    "for w, m in zip(wakuwaku3, mogumogu3):\n",
    "    sa.append(w - m)"
   ]
  },
  {
   "cell_type": "code",
   "execution_count": 54,
   "metadata": {},
   "outputs": [
    {
     "name": "stdout",
     "output_type": "stream",
     "text": [
      "76.875 81.25 -4.375\n"
     ]
    }
   ],
   "source": [
    "# ワクワクバーガーの点数の平均、モグモグバーガーの点数の平均、点数の差の平均\n",
    "print(average(wakuwaku3), average(mogumogu3), average(sa))"
   ]
  },
  {
   "cell_type": "code",
   "execution_count": 50,
   "metadata": {},
   "outputs": [
    {
     "name": "stdout",
     "output_type": "stream",
     "text": [
      "43.359375 35.9375 15.234375\n"
     ]
    }
   ],
   "source": [
    "# ワクワクバーガーの点数の標本分散、モグモグバーガーの点数の標本分散、点数の差の標本分散\n",
    "print(variance(wakuwaku3), variance(mogumogu3), variance(sa))"
   ]
  },
  {
   "cell_type": "code",
   "execution_count": 55,
   "metadata": {
    "collapsed": true
   },
   "outputs": [],
   "source": [
    "# ワクワクバーガーの点数の不偏分散、モグモグバーガーの点数の不偏分散、点数の差の不偏分散\n",
    "def Uvar(list):\n",
    "    v = 0\n",
    "    a = average(list)\n",
    "    for x in list:\n",
    "            v += (x - a) ** 2\n",
    "    return (v / (len(list)-1))"
   ]
  },
  {
   "cell_type": "code",
   "execution_count": 56,
   "metadata": {},
   "outputs": [
    {
     "name": "stdout",
     "output_type": "stream",
     "text": [
      "49.55357142857143 41.07142857142857 17.410714285714285\n"
     ]
    }
   ],
   "source": [
    "print(Uvar(wakuwaku3), Uvar(mogumogu3), Uvar(sa))"
   ]
  },
  {
   "cell_type": "code",
   "execution_count": 58,
   "metadata": {},
   "outputs": [
    {
     "name": "stdout",
     "output_type": "stream",
     "text": [
      "1.4752421108802058\n"
     ]
    }
   ],
   "source": [
    "# 差の標準誤差\n",
    "def SE(list):\n",
    "    se = Uvar(list)\n",
    "    return math.sqrt(se / len(list))\n",
    "\n",
    "print(SE(sa))"
   ]
  },
  {
   "cell_type": "code",
   "execution_count": 63,
   "metadata": {},
   "outputs": [
    {
     "name": "stdout",
     "output_type": "stream",
     "text": [
      "-2.97\n"
     ]
    }
   ],
   "source": [
    "t = average(sa) / SE(sa)\n",
    "print(round(t,2))"
   ]
  },
  {
   "cell_type": "code",
   "execution_count": null,
   "metadata": {
    "collapsed": true
   },
   "outputs": [],
   "source": [
    "#自由度は7で、有意水準5%のt値は2.365より帰無仮説は棄却され、ワクワクバーガーとモグモグバーガーの評価に有意な差があるといえる。"
   ]
  },
  {
   "cell_type": "code",
   "execution_count": 64,
   "metadata": {
    "collapsed": true
   },
   "outputs": [],
   "source": [
    "#課題5.4\n",
    "\"\"\"改善前と改善後の評価に有意な差はないとする。\n",
    "この仮説が棄却された場合、改善前と改善後の評価に有意な差があるといえる。\n",
    "有意水準は5%に設定する。\n",
    "\"\"\"\n",
    "before = [65, 70, 85, 70, 80, 80, 80, 70, 80, 70]\n",
    "after  = [80, 90, 80, 90, 90, 85, 80, 90, 85, 80]"
   ]
  },
  {
   "cell_type": "code",
   "execution_count": 65,
   "metadata": {
    "collapsed": true
   },
   "outputs": [],
   "source": [
    "# 点数の差\n",
    "sa2 = []\n",
    "for w, m in zip(before, after):\n",
    "    sa2.append(w - m)"
   ]
  },
  {
   "cell_type": "code",
   "execution_count": 66,
   "metadata": {},
   "outputs": [
    {
     "name": "stdout",
     "output_type": "stream",
     "text": [
      "-3.59\n"
     ]
    }
   ],
   "source": [
    "# t値\n",
    "t2 = average(sa2) / SE(sa2)\n",
    "print(round(t2,2))"
   ]
  },
  {
   "cell_type": "code",
   "execution_count": null,
   "metadata": {
    "collapsed": true
   },
   "outputs": [],
   "source": [
    "#自由度は9で、有意水準5%のt値は2.262より帰無仮説は棄却され、改善前と改善後の評価に有意な差があるといえる。"
   ]
  }
 ],
 "metadata": {
  "kernelspec": {
   "display_name": "Python 3",
   "language": "python",
   "name": "python3"
  },
  "language_info": {
   "codemirror_mode": {
    "name": "ipython",
    "version": 3
   },
   "file_extension": ".py",
   "mimetype": "text/x-python",
   "name": "python",
   "nbconvert_exporter": "python",
   "pygments_lexer": "ipython3",
   "version": "3.6.2"
  }
 },
 "nbformat": 4,
 "nbformat_minor": 2
}
