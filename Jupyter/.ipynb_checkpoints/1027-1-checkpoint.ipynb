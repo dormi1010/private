{
 "cells": [
  {
   "cell_type": "code",
   "execution_count": 1,
   "metadata": {
    "collapsed": true
   },
   "outputs": [],
   "source": [
    "import module1 as m1\n",
    "import urllib.request\n",
    "import matplotlib.pyplot as plt\n",
    "%matplotlib inline"
   ]
  },
  {
   "cell_type": "code",
   "execution_count": 4,
   "metadata": {
    "collapsed": true
   },
   "outputs": [],
   "source": [
    "# 課題5.1\n",
    "url = 'https://raw.githubusercontent.com/maskot1977/ipython_notebook/master/toydata/ice_cream3.txt'\n",
    "urllib.request.urlretrieve(url, 'ice_cream4.txt')\n",
    "col1 = []\n",
    "col2 = []\n",
    "col3 = []\n",
    "col4 = []\n",
    "for i, line in enumerate(open('ice_cream4.txt', encoding='utf-8')):\n",
    "    if i == 0:\n",
    "        continue\n",
    "    c = line.split()\n",
    "    col1.append(int(c[0])) \n",
    "    col2.append(int(c[1]))\n",
    "    col3.append(int(c[2]))\n",
    "    col4.append(int(c[3]))"
   ]
  },
  {
   "cell_type": "code",
   "execution_count": 5,
   "metadata": {},
   "outputs": [
    {
     "data": {
      "text/plain": [
       "0.3019"
      ]
     },
     "execution_count": 5,
     "metadata": {},
     "output_type": "execute_result"
    }
   ],
   "source": [
    "m1.correlation(col3, col4)"
   ]
  },
  {
   "cell_type": "code",
   "execution_count": 6,
   "metadata": {
    "collapsed": true
   },
   "outputs": [],
   "source": [
    "def a_fit(xlist, ylist):\n",
    "    c = m1.correlation(xlist, ylist)\n",
    "    return (c * (m1.standard_deviation(ylist)/m1.standard_deviation(xlist)))\n",
    "def b_fit(xlist, ylist):\n",
    "    r = m1.average(ylist) - (a_fit(xlist, ylist) * m1.average(xlist))\n",
    "    return r"
   ]
  },
  {
   "cell_type": "code",
   "execution_count": 7,
   "metadata": {},
   "outputs": [
    {
     "name": "stdout",
     "output_type": "stream",
     "text": [
      "y = ax + b; (a, b) = (8.1, 118.608)\n"
     ]
    }
   ],
   "source": [
    "print(\"y = ax + b; (a, b) = ({0}, {1})\".format(round((a_fit(col3, col4)),3), round((b_fit(col3, col4)),3)))"
   ]
  },
  {
   "cell_type": "code",
   "execution_count": 8,
   "metadata": {
    "collapsed": true
   },
   "outputs": [],
   "source": [
    "test_x = []\n",
    "fitted_y = []\n",
    "for x in range(min(col3), max(col3)+1):\n",
    "    test_x.append(x)\n",
    "    fitted_y.append(a_fit(col3, col4) * x + b_fit(col3,col4))"
   ]
  },
  {
   "cell_type": "code",
   "execution_count": 11,
   "metadata": {},
   "outputs": [
    {
     "data": {
      "image/png": "[encoded data removed]",
      "text/plain": [
       "<matplotlib.figure.Figure at 0x14ea067b748>"
      ]
     },
     "metadata": {},
     "output_type": "display_data"
    }
   ],
   "source": [
    "plt.figure(figsize=(8,5))\n",
    "plt.plot(col3,col4,'bo', label='Exp.')\n",
    "plt.plot(test_x,fitted_y,'k-', label='fitted line', linewidth=10, alpha=0.3)\n",
    "plt.title(\"Numbers of customers in last summer\")\n",
    "plt.xlabel(\"Low Temperature\")\n",
    "plt.ylabel(\"Customers\")\n",
    "plt.legend(loc='best',fancybox=True, shadow=True)\n",
    "plt.grid(True)\n",
    "for day, x, y in zip(col1, col3, col4):\n",
    "    plt.text(x, y, day, alpha=0.8, size=12)\n",
    "plt.show()\n"
   ]
  },
  {
   "cell_type": "code",
   "execution_count": 28,
   "metadata": {
    "collapsed": true
   },
   "outputs": [],
   "source": [
    "# 課題5.3\n",
    "import math\n",
    "def partial_correlation(a, b, y):\n",
    "    ay = m1.correlation(a, y)\n",
    "    by = m1.correlation(b, y)\n",
    "    ab = m1.correlation(a, b)\n",
    "    c = by - (ay * ab)\n",
    "    d = math.sqrt(1 - ay ** 2) * math.sqrt(1 - ab ** 2)\n",
    "    return(round(c/d,3))"
   ]
  },
  {
   "cell_type": "code",
   "execution_count": 29,
   "metadata": {},
   "outputs": [
    {
     "data": {
      "text/plain": [
       "-0.896"
      ]
     },
     "execution_count": 29,
     "metadata": {},
     "output_type": "execute_result"
    }
   ],
   "source": [
    "partial_correlation(col2, col3, col4)"
   ]
  },
  {
   "cell_type": "code",
   "execution_count": 30,
   "metadata": {},
   "outputs": [
    {
     "data": {
      "text/plain": [
       "0.973"
      ]
     },
     "execution_count": 30,
     "metadata": {},
     "output_type": "execute_result"
    }
   ],
   "source": [
    "# 課題5.4\n",
    "partial_correlation(col3, col2, col4)"
   ]
  },
  {
   "cell_type": "code",
   "execution_count": null,
   "metadata": {
    "collapsed": true
   },
   "outputs": [],
   "source": []
  }
 ],
 "metadata": {
  "kernelspec": {
   "display_name": "Python 3",
   "language": "python",
   "name": "python3"
  },
  "language_info": {
   "codemirror_mode": {
    "name": "ipython",
    "version": 3
   },
   "file_extension": ".py",
   "mimetype": "text/x-python",
   "name": "python",
   "nbconvert_exporter": "python",
   "pygments_lexer": "ipython3",
   "version": "3.6.2"
  }
 },
 "nbformat": 4,
 "nbformat_minor": 2
}
