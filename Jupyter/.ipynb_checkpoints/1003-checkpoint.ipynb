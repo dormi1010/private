{
 "cells": [
  {
   "cell_type": "code",
   "execution_count": 1,
   "metadata": {
    "collapsed": true
   },
   "outputs": [],
   "source": [
    "#課題3.4(a)\n",
    "'''\n",
    "# * 帰無仮説：ワクワク、モグモグ両店でポテト・チキン・ハンバーガーの売り上げの割合に差はない\n",
    "# * 対立仮説：ワクワク、モグモグ両店でポテト・チキン・ハンバーガーの売り上げの割合に差がある\n",
    "'''"
   ]
  },
  {
   "cell_type": "code",
   "execution_count": 20,
   "metadata": {},
   "outputs": [
    {
     "name": "stdout",
     "output_type": "stream",
     "text": [
      "+----------+--------+--------+--------------+------+\n",
      "|   お店   | ポテト | チキン | ハンバーガー | 合計 |\n",
      "+----------+--------+--------+--------------+------+\n",
      "| ワクワク | 437.5  | 187.5  |    625.0     | 1250 |\n",
      "| モグモグ | 262.5  | 112.5  |    375.0     | 750  |\n",
      "|   合計   |  700   |  300   |     1000     | 2000 |\n",
      "+----------+--------+--------+--------------+------+\n"
     ]
    }
   ],
   "source": [
    "# 課題3.4 (b)\n",
    "from prettytable import PrettyTable\n",
    "SP = 700\n",
    "SC = 300\n",
    "SH = 1000\n",
    "SS = 2000\n",
    "p = SP / SS\n",
    "c = SC / SS\n",
    "h = SH / SS\n",
    "WS = 1250\n",
    "MS = 750\n",
    "table = PrettyTable()\n",
    "table.add_column('お店',\n",
    "                     ['ワクワク', 'モグモグ','合計'],\n",
    "                     )\n",
    "table.add_column('ポテト',\n",
    "                     [p * WS, p * MS, SP],\n",
    "                     )\n",
    "table.add_column('チキン',\n",
    "                     [c * WS, c * MS, SC],\n",
    "                     )\n",
    "table.add_column('ハンバーガー',\n",
    "                     [h * WS, h * MS, SH],\n",
    "                     )\n",
    "table.add_column('合計',\n",
    "                     [WS, MS, SS],\n",
    "                     )\n",
    "print (table)"
   ]
  },
  {
   "cell_type": "code",
   "execution_count": 3,
   "metadata": {},
   "outputs": [
    {
     "name": "stdout",
     "output_type": "stream",
     "text": [
      "9.905\n"
     ]
    }
   ],
   "source": [
    "# 課題3.4 (c)\n",
    "t = 0\n",
    "a = [437.5, 187.5, 625, 262.5, 112.5, 375]\n",
    "b = [435, 165, 650, 265, 135, 350]\n",
    "for x in range(6) :\n",
    "    t += (a[x] - b[x]) ** 2 / a[x]\n",
    "print (round(t,3))"
   ]
  },
  {
   "cell_type": "code",
   "execution_count": 40,
   "metadata": {},
   "outputs": [
    {
     "data": {
      "text/plain": [
       "2"
      ]
     },
     "execution_count": 40,
     "metadata": {},
     "output_type": "execute_result"
    }
   ],
   "source": [
    "# 課題3.4 (d)\n",
    "#今回の調査対象は2店舗・3商品であるから、この時の自由度は、\n",
    "(2 - 1) * (3 - 1)"
   ]
  },
  {
   "cell_type": "code",
   "execution_count": 41,
   "metadata": {},
   "outputs": [
    {
     "data": {
      "text/plain": [
       "9.21"
      ]
     },
     "execution_count": 41,
     "metadata": {},
     "output_type": "execute_result"
    }
   ],
   "source": [
    "# 課題3.4 (e)\n",
    "#カイ二乗分布表より、有意水準1%のカイ二乗値は、\n",
    "9.21"
   ]
  },
  {
   "cell_type": "code",
   "execution_count": null,
   "metadata": {
    "collapsed": true
   },
   "outputs": [],
   "source": [
    "# 課題3.4 (f)\n",
    "\"\"\"\n",
    "課題cより、売上データから計算されたカイ二乗値は約9.91であり、有意水準1%を満たす9.21を上回る。\n",
    "よって、帰無仮説は棄却され対立仮説が採択される。つまり、「ワクワク、モグモグ両店でポテト・チキン・ハンバーガーの売り上げの割合に差がある」\n",
    "といえる。\n",
    "\"\"\""
   ]
  }
 ],
 "metadata": {
  "kernelspec": {
   "display_name": "Python 3",
   "language": "python",
   "name": "python3"
  },
  "language_info": {
   "codemirror_mode": {
    "name": "ipython",
    "version": 3
   },
   "file_extension": ".py",
   "mimetype": "text/x-python",
   "name": "python",
   "nbconvert_exporter": "python",
   "pygments_lexer": "ipython3",
   "version": "3.6.2"
  }
 },
 "nbformat": 4,
 "nbformat_minor": 2
}
