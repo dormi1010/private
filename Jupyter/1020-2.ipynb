{
 "cells": [
  {
   "cell_type": "code",
   "execution_count": 1,
   "metadata": {
    "collapsed": true
   },
   "outputs": [],
   "source": [
    "import urllib.request\n",
    "import matplotlib.pyplot as plt\n",
    "%matplotlib inline\n",
    "url = 'https://raw.githubusercontent.com/maskot1977/ipython_notebook/master/toydata/shopAandB.txt'"
   ]
  },
  {
   "cell_type": "code",
   "execution_count": 2,
   "metadata": {
    "collapsed": true
   },
   "outputs": [],
   "source": [
    "urllib.request.urlretrieve(url, 'ice2.txt')\n",
    "col1a = []\n",
    "col2a = []\n",
    "col3a = []\n",
    "col1b = []\n",
    "col2b = []\n",
    "col3b = []\n",
    "for i, line in enumerate(open('ice2.txt', encoding='utf-8')):\n",
    "    if i == 0:\n",
    "        continue\n",
    "    c = line.split()\n",
    "    if c[3] == 'A':\n",
    "        col1a.append(int(c[0])) \n",
    "        col2a.append(int(c[1]))\n",
    "        col3a.append(int(c[2]))\n",
    "    else:\n",
    "        col1b.append(int(c[0])) \n",
    "        col2b.append(int(c[1]))\n",
    "        col3b.append(int(c[2]))"
   ]
  },
  {
   "cell_type": "code",
   "execution_count": 3,
   "metadata": {},
   "outputs": [
    {
     "data": {
      "image/png": "[encoded data removed]",
      "text/plain": [
       "<matplotlib.figure.Figure at 0x1d674f74a8>"
      ]
     },
     "metadata": {},
     "output_type": "display_data"
    }
   ],
   "source": [
    "plt.figure(figsize=(8, 4))\n",
    "\n",
    "plt.subplot(1, 2, 1)\n",
    "plt.scatter(col2a, col3a, alpha=0.5)\n",
    "plt.title(\"ShopA\")\n",
    "plt.xlabel(\"Temperature\")\n",
    "plt.ylabel(\"Customers\")\n",
    "plt.xlim([25, 35])\n",
    "plt.ylim([250, 500])\n",
    "for day, x, y in zip(col1a, col2a, col3a):\n",
    "    plt.text(x, y, day, alpha=0.8, size=12)\n",
    "plt.grid()\n",
    "\n",
    "plt.subplot(1, 2, 2)\n",
    "plt.scatter(col2b, col3b, alpha=0.5)\n",
    "plt.title(\"ShopB\")\n",
    "plt.xlabel(\"Tempareture\")\n",
    "plt.xlim([25, 35])\n",
    "plt.ylim([250, 500])\n",
    "for day, x, y in zip(col1b, col2b, col3b):\n",
    "    plt.text(x, y, day, alpha=0.8, size=12)\n",
    "plt.grid()\n",
    "\n",
    "plt.show()"
   ]
  },
  {
   "cell_type": "code",
   "execution_count": 4,
   "metadata": {
    "collapsed": true
   },
   "outputs": [],
   "source": [
    "import math"
   ]
  },
  {
   "cell_type": "code",
   "execution_count": 5,
   "metadata": {
    "collapsed": true
   },
   "outputs": [],
   "source": [
    "def average(list):\n",
    "    sum = 0\n",
    "    for length in list:\n",
    "        sum += length\n",
    "    return (sum / len(list))"
   ]
  },
  {
   "cell_type": "code",
   "execution_count": 6,
   "metadata": {
    "collapsed": true
   },
   "outputs": [],
   "source": [
    "def variance(list):\n",
    "    v = 0\n",
    "    a = average(list)\n",
    "    for x in list:\n",
    "            v += (x - a) ** 2\n",
    "    return (v / len(list))"
   ]
  },
  {
   "cell_type": "code",
   "execution_count": 7,
   "metadata": {
    "collapsed": true
   },
   "outputs": [],
   "source": [
    "def standard_deviation(list):\n",
    "    v = variance(list)\n",
    "    return(math.sqrt(v))"
   ]
  },
  {
   "cell_type": "code",
   "execution_count": 8,
   "metadata": {
    "collapsed": true
   },
   "outputs": [],
   "source": [
    "def covariance(list1, list2):\n",
    "    c1 = []\n",
    "    c2 = []\n",
    "    c3 = []\n",
    "    s = 0\n",
    "    for x in list1:\n",
    "        c1.append(x - average(list1))\n",
    "    for y in list2:\n",
    "        c2.append(y - average(list2))\n",
    "    c3 = [m * n for(m, n) in zip(c1, c2)]\n",
    "    for z in c3:\n",
    "        s += z\n",
    "    return (s / len(list1))"
   ]
  },
  {
   "cell_type": "code",
   "execution_count": 9,
   "metadata": {
    "collapsed": true
   },
   "outputs": [],
   "source": [
    "def correlation(list1, list2):\n",
    "    c = covariance(list1, list2)\n",
    "    d = standard_deviation(list1) * standard_deviation(list2)\n",
    "    cor = c / d\n",
    "    return (round(cor, 4))"
   ]
  },
  {
   "cell_type": "code",
   "execution_count": 10,
   "metadata": {},
   "outputs": [
    {
     "data": {
      "text/plain": [
       "0.76"
      ]
     },
     "execution_count": 10,
     "metadata": {},
     "output_type": "execute_result"
    }
   ],
   "source": [
    "correlation(col2a, col3a)"
   ]
  },
  {
   "cell_type": "code",
   "execution_count": 11,
   "metadata": {},
   "outputs": [
    {
     "data": {
      "text/plain": [
       "0.9635"
      ]
     },
     "execution_count": 11,
     "metadata": {},
     "output_type": "execute_result"
    }
   ],
   "source": [
    "correlation(col2b, col3b)"
   ]
  },
  {
   "cell_type": "code",
   "execution_count": 12,
   "metadata": {
    "collapsed": true
   },
   "outputs": [],
   "source": [
    "#課題5\n",
    "url = 'https://raw.githubusercontent.com/maskot1977/ipython_notebook/master/toydata/shop_distance.txt'"
   ]
  },
  {
   "cell_type": "code",
   "execution_count": 13,
   "metadata": {
    "collapsed": true
   },
   "outputs": [],
   "source": [
    "urllib.request.urlretrieve(url, 'ice3.txt')\n",
    "col1 = []\n",
    "col2 = []\n",
    "col3 = []\n",
    "for i, line in enumerate(open('ice3.txt', encoding='utf-8')):\n",
    "    if i == 0:\n",
    "        continue\n",
    "    c = line.split()\n",
    "    col1.append(int(c[0])) \n",
    "    col2.append(int(c[1]))\n",
    "    col3.append(int(c[2]))"
   ]
  },
  {
   "cell_type": "code",
   "execution_count": 14,
   "metadata": {},
   "outputs": [
    {
     "data": {
      "text/plain": [
       "-0.9795"
      ]
     },
     "execution_count": 14,
     "metadata": {},
     "output_type": "execute_result"
    }
   ],
   "source": [
    "correlation(col2,col3)"
   ]
  },
  {
   "cell_type": "code",
   "execution_count": null,
   "metadata": {
    "collapsed": true
   },
   "outputs": [],
   "source": []
  },
  {
   "cell_type": "code",
   "execution_count": null,
   "metadata": {
    "collapsed": true
   },
   "outputs": [],
   "source": []
  }
 ],
 "metadata": {
  "kernelspec": {
   "display_name": "Python 3",
   "language": "python",
   "name": "python3"
  },
  "language_info": {
   "codemirror_mode": {
    "name": "ipython",
    "version": 3
   },
   "file_extension": ".py",
   "mimetype": "text/x-python",
   "name": "python",
   "nbconvert_exporter": "python",
   "pygments_lexer": "ipython3",
   "version": "3.6.2"
  }
 },
 "nbformat": 4,
 "nbformat_minor": 2
}
